{
 "cells": [
  {
   "cell_type": "code",
   "execution_count": 13,
   "id": "34a4cd12",
   "metadata": {},
   "outputs": [
    {
     "name": "stderr",
     "output_type": "stream",
     "text": [
      "/var/folders/tw/j68gkt955z57h83crjdjjrg80000gr/T/ipykernel_80629/2108302824.py:37: MatplotlibDeprecationWarning: The get_cmap function was deprecated in Matplotlib 3.7 and will be removed two minor releases later. Use ``matplotlib.colormaps[name]`` or ``matplotlib.colormaps.get_cmap(obj)`` instead.\n",
      "  ax.scatter(inputs_[:, 0], inputs_[:, 1], c=labels, cmap=matplotlib.cm.get_cmap('RdYlBu'))\n"
     ]
    }
   ],
   "source": [
    "import os, sys, numpy, torch, matplotlib.pyplot, matplotlib.cm, ipycanvas, matplotlib.patches\n",
    "\n",
    "sys.path += [os.path.abspath(os.path.join('..')), os.path.abspath(os.path.join('../..'))]  # Allow repository modules to be imported\n",
    "\n",
    "from settings.sphere_2d_epsilon_net import sphere_2d_epsilon_net, get_dataloader\n",
    "from utils.optimization import initialize\n",
    "\n",
    "experiment = {\n",
    "    'dataset': 'sphere_2d_epsilon_net',\n",
    "    'epsilon': 1.4,\n",
    "    'net_epsilon': 1e-10 * 1 / 100.,\n",
    "    'seed': 2,\n",
    "    'input_dimension': 2, \n",
    "    'sample_size': 100,  \n",
    "    'batch_size': 100, \n",
    "    'within_cluster_variance': 0,\n",
    "    'epochs': 50000,\n",
    "    'learning_rate': .1,\n",
    "    'bias': False,\n",
    "    'initialization_scale': 1e-10,\n",
    "    'name_parameters': ['epoch'],\n",
    "    'balance_classes': True,\n",
    "    'regularization': 0.14\n",
    "}\n",
    "rotation_matrix = numpy.identity(experiment['input_dimension'])\n",
    "device, generator = initialize(experiment['seed'])\n",
    "train_data = get_dataloader(**experiment, rotation_matrix=rotation_matrix, generator=generator)\n",
    "test_data = get_dataloader(**experiment, rotation_matrix=rotation_matrix, generator=generator)\n",
    "\n",
    "fig, ax = matplotlib.pyplot.subplots(figsize=(10, 10))\n",
    "inputs = []; labels = []\n",
    "for batch_inputs, batch_labels in train_data: inputs.append(batch_inputs); labels.append(batch_labels)\n",
    "inputs, labels = torch.concatenate(inputs), torch.concatenate(labels)\n",
    "inputs_ = numpy.matmul(inputs.detach().cpu().numpy(), rotation_matrix.transpose())\n",
    "ax.hlines(0, -inputs_.max() * 1.1, inputs_.max() * 1.1, color='k')\n",
    "ax.vlines(0, -inputs_.max() * 1.1, inputs_.max() * 1.1, color='k')\n",
    "ax.scatter(inputs_[:, 0], inputs_[:, 1], c=labels, cmap=matplotlib.cm.get_cmap('RdYlBu'))\n",
    "nodes = sphere_2d_epsilon_net(**experiment)\n",
    "ax.add_patch(matplotlib.patches.Circle([0, 0], 1, color='k', alpha=.1, fill=False))\n",
    "for node in nodes:\n",
    "    ax.add_patch(matplotlib.patches.Circle(node, experiment['epsilon'], color='k', alpha=.05))"
   ]
  },
  {
   "cell_type": "code",
   "execution_count": 14,
   "id": "a1b5ad17-55b7-4878-9be1-bdd85a8e02cb",
   "metadata": {
    "metadata": {}
   },
   "outputs": [
    {
     "data": {
      "application/vnd.jupyter.widget-view+json": {
       "model_id": "48a18db5d3aa49eea07415b61cfe107d",
       "version_major": 2,
       "version_minor": 0
      },
      "text/plain": [
       "Canvas(height=1200, width=1200)"
      ]
     },
     "execution_count": 14,
     "metadata": {},
     "output_type": "execute_result"
    }
   ],
   "source": [
    "matplotlib.pyplot.ioff()\n",
    "figure, ((input_domain_ax, loss_ax), (parameters_norms_ax, gradients_norms_ax)) = matplotlib.pyplot.subplots(2, 2, figsize=(16, 16))\n",
    "\n",
    "def plot_norms_min_max_variation(initialization_scale, learning_rate, epoch, *args, **kwargs):\n",
    "    iterations = [iteration for iteration in range(0, epoch + 1)]\n",
    "    max_variation = initialization_scale * numpy.exp(learning_rate * numpy.array(iterations) / 4.)\n",
    "    min_variation = initialization_scale * numpy.exp(learning_rate * numpy.array(iterations) / 4.)\n",
    "    parameters_norms_ax.plot(iterations, max_variation, linestyle='--', c='k', alpha=0.1, label='$max ∂||w||/∂t$')\n",
    "    parameters_norms_ax.plot(iterations, min_variation, linestyle='--', c='k', alpha=0.1, label='$min ∂||w||/∂t$')\n",
    "\n",
    "canvas = ipycanvas.Canvas()\n",
    "canvas.width, canvas.height = 1200, 1200\n",
    "canvas.font = '30px arial'\n",
    "canvas.fill_text('Results will appear as processed', canvas.width / 4, canvas.height / 3)\n",
    "canvas"
   ]
  },
  {
   "cell_type": "code",
   "execution_count": 15,
   "id": "b77d780b",
   "metadata": {
    "metadata": {}
   },
   "outputs": [],
   "source": [
    "from functools import partial\n",
    "from utils.plots import plot_train_loss, plot_samples_and_neurons, plot_weights_gradient_norms, plot_weights_norms, draw_figure_into_canvas, save_figure\n",
    "from utils.models import EpsilonNetFullyConnectedNeuralNetwork\n",
    "from experiment import execute_experiment\n",
    "\n",
    "plot_samples_and_neurons = partial(plot_samples_and_neurons, ax=input_domain_ax, rotation_matrix=rotation_matrix, dataloader=train_data)\n",
    "plot_train_loss = partial(plot_train_loss, ax=loss_ax)\n",
    "plot_weights_norms = partial(plot_weights_norms, ax=parameters_norms_ax)\n",
    "plot_weights_gradient_norms = partial(plot_weights_gradient_norms, ax=gradients_norms_ax)\n",
    "draw_figure_into_canvas = partial(draw_figure_into_canvas, figure=figure, canvas=canvas)\n",
    "save_figure = partial(save_figure, figure=figure, parameters=experiment, **experiment)\n",
    "\n",
    "def model_summary(model, model_metrics, epoch, *args, **kwargs):\n",
    "    for layer_index, layer in enumerate(model.layers):\n",
    "        layer_metrics = {'epoch': epoch, 'layer': layer_index, 'hidden_units': layer.weight.shape[0],\n",
    "                         'neurons_weights_norm': layer.weight.norm(dim=1).detach().cpu().tolist()}\n",
    "        if experiment['bias']: layer_metrics.update({'biases': layer.bias.detach().cpu().tolist()})\n",
    "        model_metrics.append(layer_metrics)\n",
    "        \n",
    "    model_metrics.append({'epoch': epoch, 'layer': len(model.layers), 'hidden_units': model.output_layer.weight.shape[1],\n",
    "                          'neurons_weights_norm': model.output_layer.weight.abs().squeeze(dim=0).detach().cpu().tolist()})\n",
    "\n",
    "execute_experiment(\n",
    "    **experiment,\n",
    "    train_data=train_data, \n",
    "    test_data=test_data, \n",
    "    model_class=EpsilonNetFullyConnectedNeuralNetwork,\n",
    "    saving_epochs_interval=experiment['epochs'],\n",
    "    callbacks_epochs=list(range(0, experiment['epochs'], int(experiment['epochs'] / 10.))),\n",
    "    callbacks=[model_summary, plot_samples_and_neurons, plot_train_loss, plot_weights_norms, \n",
    "               plot_weights_gradient_norms, draw_figure_into_canvas, save_figure]\n",
    ")"
   ]
  },
  {
   "cell_type": "code",
   "execution_count": null,
   "id": "2173ee26",
   "metadata": {},
   "outputs": [],
   "source": []
  },
  {
   "cell_type": "code",
   "execution_count": null,
   "id": "b58e7cf6",
   "metadata": {},
   "outputs": [],
   "source": []
  }
 ],
 "metadata": {
  "kernelspec": {
   "display_name": "Python 3 (ipykernel)",
   "language": "python",
   "name": "python3"
  },
  "language_info": {
   "codemirror_mode": {
    "name": "ipython",
    "version": 3
   },
   "file_extension": ".py",
   "mimetype": "text/x-python",
   "name": "python",
   "nbconvert_exporter": "python",
   "pygments_lexer": "ipython3",
   "version": "3.10.11"
  }
 },
 "nbformat": 4,
 "nbformat_minor": 5
}
