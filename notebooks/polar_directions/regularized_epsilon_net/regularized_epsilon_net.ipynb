{
 "cells": [
  {
   "cell_type": "code",
   "execution_count": 1,
   "id": "34a4cd12",
   "metadata": {},
   "outputs": [
    {
     "name": "stderr",
     "output_type": "stream",
     "text": [
      "/tmp/ipykernel_2424/2597571282.py:40: MatplotlibDeprecationWarning: The get_cmap function was deprecated in Matplotlib 3.7 and will be removed two minor releases later. Use ``matplotlib.colormaps[name]`` or ``matplotlib.colormaps.get_cmap(obj)`` instead.\n",
      "  ax.scatter(inputs_[:, 0], inputs_[:, 1], c=labels, cmap=matplotlib.cm.get_cmap('RdYlBu'))\n"
     ]
    },
    {
     "data": {
      "text/plain": [
       "<matplotlib.collections.PathCollection at 0x796709fa4e50>"
      ]
     },
     "execution_count": 1,
     "metadata": {},
     "output_type": "execute_result"
    },
    {
     "data": {
      "image/png": "[encoded data removed]",
      "text/plain": [
       "<Figure size 1000x1000 with 1 Axes>"
      ]
     },
     "metadata": {},
     "output_type": "display_data"
    }
   ],
   "source": [
    "import os, sys, numpy, torch, matplotlib.pyplot, matplotlib.cm, ipycanvas, matplotlib.patches\n",
    "\n",
    "sys.path += [os.path.abspath(os.path.join('..')), os.path.abspath(os.path.join('../..'))]  # Allow repository modules to be imported\n",
    "\n",
    "from functools import partial\n",
    "from utils.optimization import initialize\n",
    "from utils.plots import plot_train_loss, plot_samples_and_neurons, plot_weights_norms, draw_figure_into_canvas, save_figure\n",
    "from utils.models import EpsilonNetFullyConnectedNeuralNetwork\n",
    "from settings.sphere_2d_epsilon_net import get_dataloader, sphere_2d_epsilon_net\n",
    "from experiment import model_summary, plot_neurons_inner_product_to_weights_products, execute_experiment\n",
    "\n",
    "experiment = {\n",
    "    'dataset': 'sphere_2d_epsilon_net',\n",
    "    'epsilon': 1.5,\n",
    "    'net_epsilon': .4e-5,\n",
    "    'seed': 2,\n",
    "    'input_dimension': 2, \n",
    "    'sample_size': 100,  \n",
    "    'batch_size': 100, \n",
    "    'within_cluster_variance': 0,\n",
    "    'epochs': 1000,\n",
    "    'learning_rate': .1,\n",
    "    'bias': False,\n",
    "    'initialization_scale': 1e-5,\n",
    "    'name_parameters': ['seed'],\n",
    "    'balance_classes': True\n",
    "}\n",
    "rotation_matrix = numpy.identity(experiment['input_dimension'])\n",
    "device, generator = initialize(experiment['seed'])\n",
    "train_data = get_dataloader(**experiment, rotation_matrix=rotation_matrix, generator=generator)\n",
    "test_data = get_dataloader(**experiment, rotation_matrix=rotation_matrix, generator=generator)\n",
    "\n",
    "fig, ax = matplotlib.pyplot.subplots(figsize=(10, 10))\n",
    "inputs = []; labels = []\n",
    "for batch_inputs, batch_labels in train_data: inputs.append(batch_inputs); labels.append(batch_labels)\n",
    "inputs, labels = torch.concatenate(inputs), torch.concatenate(labels)\n",
    "inputs_ = numpy.matmul(inputs.detach().cpu().numpy(), rotation_matrix.transpose())\n",
    "ax.hlines(0, -inputs_.max() * 1.1, inputs_.max() * 1.1, color='k')\n",
    "ax.vlines(0, -inputs_.max() * 1.1, inputs_.max() * 1.1, color='k')\n",
    "ax.scatter(inputs_[:, 0], inputs_[:, 1], c=labels, cmap=matplotlib.cm.get_cmap('RdYlBu'))\n",
    "#nodes = sphere_2d_epsilon_net(**experiment)\n",
    "#ax.add_patch(matplotlib.patches.Circle([0, 0], 1, color='k', alpha=.1, fill=False))\n",
    "#for node in nodes:\n",
    "#    ax.add_patch(matplotlib.patches.Circle(node, experiment['epsilon'], color='k', alpha=.05))"
   ]
  },
  {
   "cell_type": "code",
   "execution_count": 2,
   "id": "a1b5ad17-55b7-4878-9be1-bdd85a8e02cb",
   "metadata": {
    "metadata": {}
   },
   "outputs": [
    {
     "data": {
      "application/vnd.jupyter.widget-view+json": {
       "model_id": "9fc9d9cf48464fd3905ec9f9c328505f",
       "version_major": 2,
       "version_minor": 0
      },
      "text/plain": [
       "Canvas(width=1000)"
      ]
     },
     "execution_count": 2,
     "metadata": {},
     "output_type": "execute_result"
    }
   ],
   "source": [
    "matplotlib.pyplot.ioff()\n",
    "figure, (input_domain_ax, loss_ax) = matplotlib.pyplot.subplots(1, 2, figsize=(16,8))\n",
    "\n",
    "canvas = ipycanvas.Canvas()\n",
    "canvas.width, canvas.height = 1000, 500\n",
    "canvas.font = '30px arial'\n",
    "canvas.fill_text('Results will appear as processed', canvas.width / 4, canvas.height / 3)\n",
    "\n",
    "plot_samples_and_neurons = partial(plot_samples_and_neurons, ax=input_domain_ax, rotation_matrix=rotation_matrix, dataloader=train_data)\n",
    "plot_train_loss = partial(plot_train_loss, ax=loss_ax)\n",
    "draw_figure_into_canvas = partial(draw_figure_into_canvas, figure=figure, canvas=canvas)\n",
    "save_figure = partial(save_figure, figure=figure, parameters=experiment, **experiment)\n",
    "\n",
    "canvas"
   ]
  },
  {
   "cell_type": "code",
   "execution_count": 3,
   "id": "bbbd21ef",
   "metadata": {},
   "outputs": [],
   "source": [
    "class ExponentialLoss(object):\n",
    "\n",
    "    def __call__(self, logits, labels): \n",
    "        return  (( -( (2.0 * labels.float() - 1.0) * logits ) ).exp()).mean()\n",
    "\n",
    "experiment, model, decive, generator = execute_experiment(\n",
    "    **experiment,\n",
    "    train_data=train_data, \n",
    "    test_data=test_data, \n",
    "    model_class=EpsilonNetFullyConnectedNeuralNetwork,\n",
    "    saving_epochs_interval=experiment['epochs'],\n",
    "    callbacks_epochs=list(range(0, experiment['epochs'], 100)),\n",
    "    callbacks=[plot_samples_and_neurons, plot_train_loss, draw_figure_into_canvas],\n",
    "    overwrite=True,\n",
    "    repeat_nodes=False,\n",
    "    train_loss_class=ExponentialLoss\n",
    ")"
   ]
  },
  {
   "cell_type": "code",
   "execution_count": 4,
   "id": "9ace7235",
   "metadata": {},
   "outputs": [],
   "source": [
    "unregularized_model = model\n",
    "unregularized_experiment = experiment"
   ]
  },
  {
   "cell_type": "code",
   "execution_count": null,
   "id": "a9e96527",
   "metadata": {},
   "outputs": [],
   "source": []
  },
  {
   "cell_type": "code",
   "execution_count": 9,
   "id": "c5432eed",
   "metadata": {},
   "outputs": [],
   "source": [
    "import pandas\n",
    "from utils.plots import plot_series_and_reference_on_ax\n",
    "\n",
    "blue = matplotlib.colors.to_rgba('blue', alpha=None)\n",
    "\n",
    "unregularized_model_metrics_df = pandas.DataFrame(unregularized_experiment['model_metrics'])\n",
    "unregularized_model_metrics_df['iterations'] = (\n",
    "    unregularized_model_metrics_df['epoch'] * experiment['sample_size']\n",
    "      / experiment['batch_size']\n",
    ")\n",
    "\n",
    "def plot_weights_norms(ax, model, model_metrics, batch_size, sample_size, epoch=None, discard_dead_units=True, *args, **kwargs):\n",
    "    ax.clear()\n",
    "    ax.set_title(f'Parameters norms (Epoch = {epoch})')\n",
    "    ax.set_xlabel('iteration')\n",
    "    ax.set_ylabel('L2 norm')\n",
    "    if discard_dead_units:\n",
    "        positive_neurons = [neuron_index for neuron_index in positive_neurons if neuron_index not in model.dead_units[0]]\n",
    "        \n",
    "    negative_neurons = numpy.argwhere(model.output_layer.weight.squeeze(dim=0).detach().cpu().numpy() < 0).reshape(-1).tolist()\n",
    "    if discard_dead_units:\n",
    "        negative_neurons = [neuron_index for neuron_index in negative_neurons if neuron_index not in model.dead_units[0]]\n",
    "\n",
    "    model_metrics_df = pandas.DataFrame(model_metrics)\n",
    "    model_metrics_df['iterations'] = model_metrics_df['epoch'] * sample_size / batch_size\n",
    "    \n",
    "    layer_df = unregularized_model_metrics_df[unregularized_model_metrics_df['layer']==0]\n",
    "    plot_series_and_reference_on_ax(ax, layer_df['iterations'].tolist(), \n",
    "                                    layer_df['neurons_weights_norm'].apply(lambda units_norms: numpy.average(numpy.array(units_norms))).tolist(), \n",
    "                                    label=f'$\\|w\\|$', linestyle='-')\n",
    "\n",
    "    for layer, layer_df in model_metrics_df.groupby('layer'):\n",
    "        layer_df = layer_df.dropna(subset=['neurons_weights_norm'])\n",
    "        plot_series_and_reference_on_ax(ax, layer_df['iterations'].tolist(), \n",
    "                                        layer_df['neurons_weights_norm'].apply(lambda units_norms: numpy.average(numpy.array(units_norms))).tolist(), \n",
    "                                        label=f'$\\|w\\|$', linestyle='-')\n",
    "\n",
    "    ax.legend()\n",
    "    ax.set_yscale('log')\n",
    "\n",
    "def plot_alignment(ax, model, model_metrics, batch_size, sample_size, epoch=None, discard_dead_units=True, *args, **kwargs):\n",
    "    ax.clear()\n",
    "    ax.set_title(f'Parameters norms (Epoch = {epoch})')\n",
    "    ax.set_xlabel('iteration')\n",
    "    ax.set_ylabel('L2 norm')\n",
    "    if discard_dead_units:\n",
    "        positive_neurons = [neuron_index for neuron_index in positive_neurons if neuron_index not in model.dead_units[0]]\n",
    "        \n",
    "    negative_neurons = numpy.argwhere(model.output_layer.weight.squeeze(dim=0).detach().cpu().numpy() < 0).reshape(-1).tolist()\n",
    "    if discard_dead_units:\n",
    "        negative_neurons = [neuron_index for neuron_index in negative_neurons if neuron_index not in model.dead_units[0]]\n",
    "\n",
    "    model_metrics_df = pandas.DataFrame(model_metrics)\n",
    "    model_metrics_df['iterations'] = model_metrics_df['epoch'] * sample_size / batch_size\n",
    "    \n",
    "    layer_df = model_metrics_df[model_metrics_df['layer']==0]\n",
    "    plot_series_and_reference_on_ax(ax, layer_df['iterations'].tolist(), \n",
    "                                    layer_df['alignment_with_unregularized'].apply(lambda units_norms: numpy.average(numpy.array(units_norms))).tolist(), \n",
    "                                    linestyle='-')\n",
    "\n",
    "    ax.legend()\n",
    "    ax.set_yscale('log')"
   ]
  },
  {
   "cell_type": "code",
   "execution_count": 11,
   "id": "f54da0c8",
   "metadata": {},
   "outputs": [
    {
     "data": {
      "application/vnd.jupyter.widget-view+json": {
       "model_id": "365ff2d66dac4a5996c51ab8f3843f9f",
       "version_major": 2,
       "version_minor": 0
      },
      "text/plain": [
       "Canvas(height=1000, width=1000)"
      ]
     },
     "execution_count": 11,
     "metadata": {},
     "output_type": "execute_result"
    }
   ],
   "source": [
    "matplotlib.pyplot.ioff()\n",
    "figure, ((input_domain_ax, loss_ax), (parameters_norms_ax, alignment_ax)) = matplotlib.pyplot.subplots(2, 2, figsize=(10, 10))\n",
    "\n",
    "canvas = ipycanvas.Canvas()\n",
    "canvas.width, canvas.height = 1000, 1000\n",
    "canvas.font = '30px arial'\n",
    "canvas.fill_text('Results will appear as processed', canvas.width / 4, canvas.height / 3)\n",
    "\n",
    "plot_samples_and_neurons = partial(plot_samples_and_neurons, ax=input_domain_ax, rotation_matrix=rotation_matrix, dataloader=train_data)\n",
    "plot_train_loss = partial(plot_train_loss, ax=loss_ax)\n",
    "plot_weights_norms = partial(plot_weights_norms, ax=parameters_norms_ax)\n",
    "plot_alignment = partial(plot_alignment, ax=alignment_ax)\n",
    "draw_figure_into_canvas = partial(draw_figure_into_canvas, figure=figure, canvas=canvas)\n",
    "save_figure = partial(save_figure, figure=figure, parameters=experiment, **experiment)\n",
    "\n",
    "\n",
    "canvas"
   ]
  },
  {
   "cell_type": "code",
   "execution_count": null,
   "id": "b77d780b",
   "metadata": {
    "metadata": {}
   },
   "outputs": [],
   "source": [
    "def model_summary(model, model_metrics, epoch, *args, **kwargs):\n",
    "    alignments = (model.layers[0].weight.T * unregularized_model.layers[0].weight / \n",
    "                  (model.layers[0].weight.norm(dim=1) * unregularized_model.layers[0].weight.norm(dim=1)))\n",
    "\n",
    "    model_metrics.append({'epoch': epoch, 'layer': 0,\n",
    "                          'neurons_weights_norm': model.layers[0].weight.norm(dim=1).detach().cpu().tolist(),\n",
    "                          'alignment_with_unregularized': alignments.detach().numpy.cpu().tolist()})\n",
    "\n",
    "\n",
    "execute_experiment(\n",
    "    **experiment,\n",
    "    train_data=train_data, \n",
    "    test_data=test_data, \n",
    "    model_class=EpsilonNetFullyConnectedNeuralNetwork,\n",
    "    saving_epochs_interval=experiment['epochs'],\n",
    "    callbacks_epochs=list(range(0, experiment['epochs'], 1000)),\n",
    "    callbacks=[model_summary, plot_samples_and_neurons, plot_train_loss, \n",
    "               plot_weights_norms, plot_alignment, \n",
    "               draw_figure_into_canvas, save_figure],\n",
    "    overwrite=True,\n",
    "    train_loss_class=ExponentialLoss\n",
    ")"
   ]
  },
  {
   "cell_type": "code",
   "execution_count": null,
   "id": "c8fdec16",
   "metadata": {},
   "outputs": [],
   "source": []
  }
 ],
 "metadata": {
  "kernelspec": {
   "display_name": "Python 3",
   "language": "python",
   "name": "python3"
  },
  "language_info": {
   "codemirror_mode": {
    "name": "ipython",
    "version": 3
   },
   "file_extension": ".py",
   "mimetype": "text/x-python",
   "name": "python",
   "nbconvert_exporter": "python",
   "pygments_lexer": "ipython3",
   "version": "3.10.13"
  }
 },
 "nbformat": 4,
 "nbformat_minor": 5
}
