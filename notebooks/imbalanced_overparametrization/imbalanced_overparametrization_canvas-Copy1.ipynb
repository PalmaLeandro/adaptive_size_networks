{
 "cells": [
  {
   "cell_type": "markdown",
   "id": "ce9b5d69",
   "metadata": {
    "slideshow": {
     "slide_type": "slide"
    },
    "tags": []
   },
   "source": [
    "# Imbalanced Overparametrization (WIP)\n",
    "https://proceedings.mlr.press/v139/tarmoun21a/tarmoun21a.pdf"
   ]
  },
  {
   "cell_type": "code",
   "execution_count": 1,
   "id": "a29eab51-d2c2-4679-ba0c-1e01cf005777",
   "metadata": {},
   "outputs": [
    {
     "data": {
      "application/vnd.jupyter.widget-view+json": {
       "model_id": "e6858158563f4988870824eadbd2586e",
       "version_major": 2,
       "version_minor": 0
      },
      "text/plain": [
       "Canvas(height=1000, width=1000)"
      ]
     },
     "execution_count": 1,
     "metadata": {},
     "output_type": "execute_result"
    }
   ],
   "source": [
    "import ipycanvas\n",
    "\n",
    "canvas = ipycanvas.Canvas()\n",
    "canvas.width = canvas.height = 1000; canvas.font = \"30px arial\"\n",
    "canvas.fill_text('Results will appear as processed', canvas.width / 4, canvas.height / 3)\n",
    "canvas"
   ]
  },
  {
   "cell_type": "code",
   "execution_count": 2,
   "id": "9bc6e098",
   "metadata": {},
   "outputs": [],
   "source": [
    "from experiment import execute_experiment\n",
    "\n",
    "experiment_results = execute_experiment(\n",
    "    seed=12345,\n",
    "    input_dimension=10,\n",
    "    sample_size=1000,\n",
    "    batch_size=1000,\n",
    "    hidden_units=100,\n",
    "    epochs=500,\n",
    "    learning_rate=10e-5,\n",
    "    noise_scale=10e-3,\n",
    "    initialization_variance=10e-1,\n",
    "    runs_per_model=1,\n",
    "    save_models_path='./models/',\n",
    "    save_experiments_path='./experiments/',\n",
    "    plot_results_on_canvas=canvas,\n",
    "    saving_epochs_interval=1,\n",
    "    verbose=False,\n",
    "    second_axis='imbalance'\n",
    ")"
   ]
  }
 ],
 "metadata": {
  "kernelspec": {
   "display_name": "nns_growth",
   "language": "python",
   "name": "nns_growth"
  },
  "language_info": {
   "codemirror_mode": {
    "name": "ipython",
    "version": 3
   },
   "file_extension": ".py",
   "mimetype": "text/x-python",
   "name": "python",
   "nbconvert_exporter": "python",
   "pygments_lexer": "ipython3",
   "version": "3.10.11"
  }
 },
 "nbformat": 4,
 "nbformat_minor": 5
}
