{
 "cells": [
  {
   "cell_type": "code",
   "execution_count": null,
   "metadata": {},
   "outputs": [],
   "source": [
    "import numpy, torch, matplotlib.pyplot\n",
    "\n",
    "clusters_means = [\n",
    "    [1 / 2 ** 0.5, 1 / 2 ** 0.5],\n",
    "    [0, 1],\n",
    "    [1 / 2 ** 0.5, -1 / 2 ** 0.5],\n",
    "]\n",
    "clusters_labels = [-1, 1, -1,]\n",
    "\n",
    "experiment = {\n",
    "    'seed': 1,\n",
    "    'input_dimension': 2, \n",
    "    'sample_size': 5000,  \n",
    "    'batch_size': 5000, \n",
    "    'within_cluster_variance': 1e-3,\n",
    "    'epochs': 1000,\n",
    "    'learning_rate': 0.1,\n",
    "    'initial_hidden_units': 1,\n",
    "    'bias': False,\n",
    "    'balanced_initialization': True,\n",
    "    'scale_inputs': 0.5,\n",
    "    'shift_inputs': [0, 1],\n",
    "    'initial_weights': [\n",
    "        # first layer\n",
    "        [               \n",
    "            [0, 1e-5],\n",
    "        ],  \n",
    "    ],\n",
    "    'initial_output_layer_weights': [\n",
    "        [1e-5,]\n",
    "    ]\n",
    "}\n",
    "\n"
   ]
  }
 ],
 "metadata": {
  "language_info": {
   "name": "python"
  }
 },
 "nbformat": 4,
 "nbformat_minor": 2
}
