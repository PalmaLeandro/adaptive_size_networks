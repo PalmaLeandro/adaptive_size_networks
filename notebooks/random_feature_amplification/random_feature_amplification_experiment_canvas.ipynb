{
 "cells": [
  {
   "attachments": {},
   "cell_type": "markdown",
   "id": "ce9b5d69",
   "metadata": {
    "slideshow": {
     "slide_type": "slide"
    },
    "tags": []
   },
   "source": [
    "# Random Feature Amplification experiment\n",
    "## TODO"
   ]
  },
  {
   "cell_type": "code",
   "execution_count": 1,
   "id": "a29eab51-d2c2-4679-ba0c-1e01cf005777",
   "metadata": {},
   "outputs": [
    {
     "data": {
      "application/vnd.jupyter.widget-view+json": {
       "model_id": "9b351cc3c36b49bfbaac5e050f53e14b",
       "version_major": 2,
       "version_minor": 0
      },
      "text/plain": [
       "Canvas(height=1000, width=1000)"
      ]
     },
     "execution_count": 1,
     "metadata": {},
     "output_type": "execute_result"
    }
   ],
   "source": [
    "import ipycanvas\n",
    "\n",
    "canvas = ipycanvas.Canvas()\n",
    "canvas.width = canvas.height = 1000; canvas.font = \"30px arial\"\n",
    "canvas.fill_text('Results will appear as processed', canvas.width / 4, canvas.height / 3)\n",
    "canvas"
   ]
  },
  {
   "cell_type": "code",
   "execution_count": null,
   "id": "9bc6e098",
   "metadata": {},
   "outputs": [],
   "source": [
    "from experiment import execute_experiment\n",
    "\n",
    "experiment_results = execute_experiment(\n",
    "    seed=123,\n",
    "    noise_rate=0.15,\n",
    "    within_cluster_variance=(1 / 5000.) ** 1.2,\n",
    "    input_dimension=5000,\n",
    "    sample_size=300,\n",
    "    batch_size=300,\n",
    "    epochs=int(10e7),\n",
    "    learning_rate=0.002,\n",
    "    hidden_units=400,\n",
    "    initialization_variance=(1 / 5000.) ** 1.2,\n",
    "    runs_per_model=5,\n",
    "    save_models_path='./models/',\n",
    "    save_experiments_path='./experiments/',\n",
    "    plot_results_on_canvas=canvas\n",
    ")"
   ]
  }
 ],
 "metadata": {
  "kernelspec": {
   "display_name": "nns_growth",
   "language": "python",
   "name": "nns_growth"
  },
  "language_info": {
   "codemirror_mode": {
    "name": "ipython",
    "version": 3
   },
   "file_extension": ".py",
   "mimetype": "text/x-python",
   "name": "python",
   "nbconvert_exporter": "python",
   "pygments_lexer": "ipython3",
   "version": "3.10.11"
  }
 },
 "nbformat": 4,
 "nbformat_minor": 5
}
