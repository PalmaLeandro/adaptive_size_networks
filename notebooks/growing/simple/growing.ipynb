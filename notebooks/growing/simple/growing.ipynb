{
 "cells": [
  {
   "cell_type": "code",
   "execution_count": 1,
   "metadata": {},
   "outputs": [
    {
     "name": "stderr",
     "output_type": "stream",
     "text": [
      "/tmp/ipykernel_11222/2806163569.py:59: MatplotlibDeprecationWarning: The get_cmap function was deprecated in Matplotlib 3.7 and will be removed two minor releases later. Use ``matplotlib.colormaps[name]`` or ``matplotlib.colormaps.get_cmap(obj)`` instead.\n",
      "  ax.scatter(inputs_[:, 0], inputs_[:, 1], c=colors, cmap=matplotlib.cm.get_cmap('RdYlBu'))\n"
     ]
    },
    {
     "data": {
      "text/plain": [
       "<matplotlib.collections.PathCollection at 0x7062f7eb8eb0>"
      ]
     },
     "execution_count": 1,
     "metadata": {},
     "output_type": "execute_result"
    },
    {
     "data": {
      "image/png": "[encoded data removed]",
      "text/plain": [
       "<Figure size 1000x1000 with 1 Axes>"
      ]
     },
     "metadata": {},
     "output_type": "display_data"
    }
   ],
   "source": [
    "import os, sys, numpy, torch, matplotlib.pyplot, matplotlib.cm, ipycanvas, matplotlib.patches\n",
    "\n",
    "sys.path += [os.path.abspath(os.path.join('..')), os.path.abspath(os.path.join('../..'))]  # Allow repository modules to be imported\n",
    "\n",
    "from functools import partial\n",
    "from utils.optimization import initialize\n",
    "from utils.plots import plot_train_loss, plot_samples_and_neurons, draw_figure_into_canvas, save_figure\n",
    "from settings.sphere_2d_epsilon_net import get_dataloader\n",
    "from experiment import execute_experiment, plot_samples_train_loss_value\n",
    "from models import Growing2LayerReLUNN\n",
    "\n",
    "experiment = {\n",
    "    'dataset': 'sphere_2d_epsilon_net',\n",
    "    'epsilon': .4,\n",
    "    'net_epsilon': .2e-5,\n",
    "    'seed': 1,\n",
    "    'input_dimension': 2, \n",
    "    'sample_size': 8,  \n",
    "    'batch_size': 8, \n",
    "    'within_cluster_variance': 0.,\n",
    "    'epochs': 100,\n",
    "    'learning_rate': .1,\n",
    "    'bias': False,\n",
    "    'name_parameters': ['seed'],\n",
    "    #'balance_classes': True,\n",
    "    'initialization_scale': 1.e-8,\n",
    "    'new_neurons_per_iteration': 1,\n",
    "    'classes': 2\n",
    "    #'initial_weights': [\n",
    "    #    [[0., 1e-5], [0., -1e-5], [-(.25**.5)*1e-5, -(7.5**.5)*1e-5], [(.5**.5)*1e-5, -(.5**.5)*1e-5], [-(.15**.5)*1e-5, -(.85**.5)*1e-5]]\n",
    "    #],\n",
    "    #'output_layer_initial_weights': [-1e-5, 1e-5, 1e-5, 1e-5, 1e-5]\n",
    "}\n",
    "rotation_matrix = numpy.identity(experiment['input_dimension'])\n",
    "device, generator = initialize(experiment['seed'])\n",
    "train_data = get_dataloader(**experiment, rotation_matrix=rotation_matrix, generator=generator)\n",
    "test_data = get_dataloader(**experiment, rotation_matrix=rotation_matrix, generator=generator)\n",
    "\n",
    "\n",
    "#X =[[2**-.5, 2**-.5], [2**-.5, -2**-.5],] + [[1, 0],] * 2\n",
    "##X =[[1., 1.], [1., -1.],] + [[1., 0.],] * 2\n",
    "#y = [0, 0, ] + [1, ] * 2\n",
    "#\n",
    "#with torch.no_grad():\n",
    "#    tensor_X = torch.Tensor(X)\n",
    "#    tensor_y = torch.Tensor(y)\n",
    "#\n",
    "#dataset = torch.utils.data.TensorDataset(tensor_X, tensor_y)\n",
    "#train_data = test_data = torch.utils.data.DataLoader(dataset, len(X), shuffle=True)\n",
    "\n",
    "fig, ax = matplotlib.pyplot.subplots(figsize=(10, 10))\n",
    "inputs = []; labels = []\n",
    "for batch_inputs, batch_labels in train_data: inputs.append(batch_inputs); labels.append(batch_labels)\n",
    "inputs, labels = torch.concatenate(inputs), torch.concatenate(labels)\n",
    "inputs_ = numpy.matmul(inputs.detach().cpu().numpy(), rotation_matrix.transpose())\n",
    "colors = numpy.argmax(labels, axis=1) if experiment['classes'] > 2 else labels\n",
    "ax.hlines(0, -inputs_.max() * 1.1, inputs_.max() * 1.1, color='k')\n",
    "ax.vlines(0, -inputs_.max() * 1.1, inputs_.max() * 1.1, color='k')\n",
    "ax.scatter(inputs_[:, 0], inputs_[:, 1], c=colors, cmap=matplotlib.cm.get_cmap('RdYlBu'))\n",
    "#nodes = sphere_2d_epsilon_net(**experiment)\n",
    "#ax.add_patch(matplotlib.patches.Circle([0, 0], 1, color='k', alpha=.1, fill=False))\n",
    "#for node in nodes:\n",
    "#    ax.add_patch(matplotlib.patches.Circle(node, experiment['epsilon'], color='k', alpha=.05))"
   ]
  },
  {
   "cell_type": "code",
   "execution_count": 2,
   "metadata": {},
   "outputs": [
    {
     "data": {
      "application/vnd.jupyter.widget-view+json": {
       "model_id": "4fae6e20406444f6881fb4cfe2485245",
       "version_major": 2,
       "version_minor": 0
      },
      "text/plain": [
       "Canvas(height=1000, width=1000)"
      ]
     },
     "execution_count": 2,
     "metadata": {},
     "output_type": "execute_result"
    }
   ],
   "source": [
    "matplotlib.pyplot.ioff()\n",
    "#figure, ((input_domain_ax, loss_ax), (parameters_norms_ax, inner_product_to_weights_product_ax)) = matplotlib.pyplot.subplots(2, 2, figsize=(16, 16))\n",
    "figure, ((input_domain_ax, loss_ax), (train_losses_values_ax, _)) = matplotlib.pyplot.subplots(2, 2, figsize=(16, 16))\n",
    "\n",
    "canvas = ipycanvas.Canvas()\n",
    "canvas.width, canvas.height = 1000, 1000\n",
    "canvas.font = '30px arial'\n",
    "canvas.fill_text('Results will appear as processed', canvas.width / 4, canvas.height / 3)\n",
    "\n",
    "plot_samples_and_neurons = partial(plot_samples_and_neurons, ax=input_domain_ax, rotation_matrix=rotation_matrix, dataloader=train_data, \n",
    "                                   label_neurons=True, label_data=True)\n",
    "plot_train_loss = partial(plot_train_loss, ax=loss_ax)\n",
    "#plot_weights_norms = partial(plot_weights_norms, ax=parameters_norms_ax)\n",
    "#plot_neurons_inner_product_to_weights_products = partial(plot_neurons_inner_product_to_weights_products, ax=inner_product_to_weights_product_ax, aggregate_neurons=True)\n",
    "train_losses_values = [numpy.array([0.,] * experiment['sample_size'])]\n",
    "plot_samples_train_loss_value = partial(plot_samples_train_loss_value, ax=train_losses_values_ax, \n",
    "                                        train_losses_values=train_losses_values)\n",
    "draw_figure_into_canvas = partial(draw_figure_into_canvas, figure=figure, canvas=canvas)\n",
    "save_figure = partial(save_figure, figure=figure, parameters=experiment, **experiment)\n",
    "\n",
    "canvas"
   ]
  },
  {
   "cell_type": "code",
   "execution_count": 3,
   "metadata": {},
   "outputs": [],
   "source": [
    "experiment, model, device, generator = execute_experiment(\n",
    "    **experiment,\n",
    "    train_data=train_data, \n",
    "    test_data=test_data, \n",
    "    model_class=Growing2LayerReLUNN,\n",
    "    saving_epochs_interval=experiment['epochs'],\n",
    "    callbacks_epochs=list(range(0, experiment['epochs'], 100)),\n",
    "    callbacks=[#model_summary, \n",
    "               plot_samples_and_neurons, plot_train_loss, plot_samples_train_loss_value,\n",
    "               #plot_weights_norms, plot_neurons_inner_product_to_weights_products, \n",
    "               draw_figure_into_canvas, save_figure],\n",
    "    overwrite=True,\n",
    "    repeat_nodes=False,\n",
    "    backbone=torch.nn.Identity()\n",
    ")"
   ]
  },
  {
   "cell_type": "code",
   "execution_count": null,
   "metadata": {},
   "outputs": [],
   "source": [
    "neuron = -1\n",
    "model.neurons[neuron].output_layer.weight, model.neurons[neuron].input_layer.weight"
   ]
  },
  {
   "cell_type": "code",
   "execution_count": null,
   "metadata": {},
   "outputs": [],
   "source": []
  },
  {
   "cell_type": "code",
   "execution_count": 4,
   "metadata": {},
   "outputs": [
    {
     "data": {
      "text/plain": [
       "ModuleList(\n",
       "  (0-6): 7 x Neuron(\n",
       "    (input_layer): Linear(in_features=2, out_features=1, bias=False)\n",
       "    (output_layer): Linear(in_features=1, out_features=1, bias=False)\n",
       "  )\n",
       ")"
      ]
     },
     "execution_count": 4,
     "metadata": {},
     "output_type": "execute_result"
    }
   ],
   "source": [
    "model.neurons"
   ]
  },
  {
   "cell_type": "code",
   "execution_count": 5,
   "metadata": {},
   "outputs": [],
   "source": [
    "plot_samples_and_neurons(model=model)\n",
    "draw_figure_into_canvas()"
   ]
  },
  {
   "cell_type": "code",
   "execution_count": null,
   "metadata": {},
   "outputs": [],
   "source": []
  }
 ],
 "metadata": {
  "kernelspec": {
   "display_name": "Python 3",
   "language": "python",
   "name": "python3"
  },
  "language_info": {
   "codemirror_mode": {
    "name": "ipython",
    "version": 3
   },
   "file_extension": ".py",
   "mimetype": "text/x-python",
   "name": "python",
   "nbconvert_exporter": "python",
   "pygments_lexer": "ipython3",
   "version": "3.10.13"
  }
 },
 "nbformat": 4,
 "nbformat_minor": 2
}
