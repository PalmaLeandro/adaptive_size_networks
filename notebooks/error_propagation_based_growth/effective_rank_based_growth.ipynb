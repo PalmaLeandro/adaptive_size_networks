{
 "cells": [
  {
   "cell_type": "code",
   "execution_count": 1,
   "id": "a1b5ad17-55b7-4878-9be1-bdd85a8e02cb",
   "metadata": {},
   "outputs": [],
   "source": [
    "import ipycanvas\n",
    "\n",
    "training_canvas, ranks_canvas, input_domain_canvas = ipycanvas.Canvas(), ipycanvas.Canvas(), ipycanvas.Canvas()\n",
    "training_canvas.width = training_canvas.height = 1000\n",
    "ranks_canvas.width = ranks_canvas.height = 1600\n",
    "input_domain_canvas.width = input_domain_canvas.height = 600\n",
    "training_canvas.font = ranks_canvas.font = input_domain_canvas.font = \"30px arial\"\n",
    "args = ('Results will appear as processed', training_canvas.width / 4, training_canvas.height / 3)\n",
    "training_canvas.fill_text(*args); ranks_canvas.fill_text(*args); input_domain_canvas.fill_text(*args)"
   ]
  },
  {
   "cell_type": "code",
   "execution_count": 2,
   "id": "da6eb3ab-e384-4f3b-8a58-bdd94aed2448",
   "metadata": {},
   "outputs": [
    {
     "data": {
      "application/vnd.jupyter.widget-view+json": {
       "model_id": "b54f0751cdc446c29366185cd2434ef0",
       "version_major": 2,
       "version_minor": 0
      },
      "text/plain": [
       "Canvas(height=1000, width=1000)"
      ]
     },
     "execution_count": 2,
     "metadata": {},
     "output_type": "execute_result"
    }
   ],
   "source": [
    "training_canvas"
   ]
  },
  {
   "cell_type": "code",
   "execution_count": 3,
   "id": "f7df26f5-d824-4b55-be75-cddfa4cd1645",
   "metadata": {},
   "outputs": [
    {
     "data": {
      "application/vnd.jupyter.widget-view+json": {
       "model_id": "42423848611d4b79afbf6fdb7373553c",
       "version_major": 2,
       "version_minor": 0
      },
      "text/plain": [
       "Canvas(height=1600, width=1600)"
      ]
     },
     "execution_count": 3,
     "metadata": {},
     "output_type": "execute_result"
    }
   ],
   "source": [
    "ranks_canvas"
   ]
  },
  {
   "cell_type": "code",
   "execution_count": 4,
   "id": "15ee36ad-bca0-4205-840f-6842e661017a",
   "metadata": {},
   "outputs": [
    {
     "data": {
      "application/vnd.jupyter.widget-view+json": {
       "model_id": "adb42d284f484162ba48e657fc65ce24",
       "version_major": 2,
       "version_minor": 0
      },
      "text/plain": [
       "Canvas(height=600, width=600)"
      ]
     },
     "execution_count": 4,
     "metadata": {},
     "output_type": "execute_result"
    }
   ],
   "source": [
    "input_domain_canvas"
   ]
  },
  {
   "cell_type": "code",
   "execution_count": 5,
   "id": "3189a0f4-e94c-4271-aea1-a28bd336434c",
   "metadata": {},
   "outputs": [],
   "source": [
    "from experiment import execute_experiment\n",
    "from plots import plot_eigenspectrum_on_canvas, plot_samples_and_model_activation_on_canvas\n",
    "\n",
    "experiment_results = execute_experiment(\n",
    "    seed=12345,\n",
    "    input_dimension=2,\n",
    "    spheres_dimension=2,\n",
    "    sample_size=5000,\n",
    "    batch_size=5000,\n",
    "    epochs=1000,\n",
    "    learning_rate=0.05,\n",
    "    hidden_units=500,\n",
    "    bias=False,\n",
    "    margin=0.5,\n",
    "    save_models_path='./models/',\n",
    "    save_experiments_path='./experiments/',\n",
    "    saving_epochs_interval=100,\n",
    "    plot_results_on_canvas=training_canvas,\n",
    "    callbacks=[\n",
    "        plot_eigenspectrum_on_canvas(ranks_canvas), \n",
    "        plot_samples_and_model_activation_on_canvas(input_domain_canvas)\n",
    "    ]\n",
    ")"
   ]
  },
  {
   "cell_type": "code",
   "execution_count": 6,
   "id": "a39461c5-79d4-4364-95cd-2e5a8cbb7f24",
   "metadata": {},
   "outputs": [
    {
     "ename": "NameError",
     "evalue": "name 'stop' is not defined",
     "output_type": "error",
     "traceback": [
      "\u001b[0;31m---------------------------------------------------------------------------\u001b[0m",
      "\u001b[0;31mNameError\u001b[0m                                 Traceback (most recent call last)",
      "Cell \u001b[0;32mIn[6], line 1\u001b[0m\n\u001b[0;32m----> 1\u001b[0m \u001b[43mstop\u001b[49m\n",
      "\u001b[0;31mNameError\u001b[0m: name 'stop' is not defined"
     ]
    }
   ],
   "source": [
    "stop"
   ]
  },
  {
   "cell_type": "code",
   "execution_count": null,
   "id": "bca91594-4858-4df4-b08d-ca70293e41d5",
   "metadata": {},
   "outputs": [],
   "source": [
    "import numpy, torch, matplotlib.cm\n",
    "\n",
    "from experiment import TwoLayerNeuralNet, gradients_summary\n",
    "from settings.concentric_spheres import get_dataloader\n",
    "from utils.optimization import Accuracy, initialize\n",
    "from plots import plot_samples_and_model_activation\n",
    "from utils.persistance import parameters_from_file_path\n",
    "experiment_results = dict(\n",
    "    seed=12345,\n",
    "    input_dimension=2,\n",
    "    sample_size=5000,\n",
    "    batch_size=5000,\n",
    "    epochs=1000,\n",
    "    learning_rate=0.05,\n",
    "    hidden_units=500,\n",
    "    bias=False,\n",
    "    margin=0.5,\n",
    "    save_models_path='./models/',\n",
    "    save_experiments_path='./experiments/',\n",
    "    saving_epochs_interval=100,)\n",
    "\n",
    "initialize(experiment_results['seed'])\n",
    "\n",
    "data = get_dataloader(**experiment_results)\n",
    "_, (inputs, labels) = next(enumerate(data))\n",
    "\n",
    "model = TwoLayerNeuralNet.load('./models/', **experiment_results)\n",
    "predictions = model(inputs)\n",
    "print(f'Train accuracy: {Accuracy(predictions, labels)}')\n",
    "\n",
    "fig = plot_samples_and_model_activation(data, model, experiment_results['input_dimension'])\n",
    "[ax] = fig.axes\n",
    "\n",
    "loss = torch.nn.BCEWithLogitsLoss()(predictions, labels)\n",
    "loss.backward()\n",
    "\n",
    "outer_product_d_L_d_sigma = model.dummy_variable1.grad.detach().cpu().numpy()\n",
    "eigvals, eigvecs = numpy.linalg.eig(outer_product_d_L_d_sigma)\n",
    "eigvals = abs(eigvals.real)\n",
    "eigvecs = numpy.array(list(map(lambda x: x[1], sorted(zip(eigvals, eigvecs.real.transpose()), key=lambda x: x[0], reverse=True))))\n",
    "eigvals = sorted(eigvals, reverse=True)\n",
    "r_k = [sum(eigvals[k:]) / eigenvalue for k, eigenvalue in enumerate(eigvals[:-1]) if eigenvalue > 0][:-1]\n",
    "k_star = r_k.index(min(r_k))\n",
    "\n",
    "eigvecs_weights = numpy.matmul(eigvecs, model.input_layer.weight.data.detach().cpu().numpy())\n",
    "#eigvecs_biases = numpy.matmul(eigvecs[:k_star], model.input_layer.bias.data.detach().cpu().numpy()).tolist()\n",
    "colors = matplotlib.cm.OrRd_r(numpy.linspace(.2, .6, len(eigvecs_weights)))\n",
    "for eigenvector, color in zip(eigvecs_weights, colors):\n",
    "    ax.arrow(0, 0, *eigenvector, color=color)\n",
    "\n",
    "ax.set_xlim(-1, 1)\n",
    "ax.set_ylim(-1, 1)\n",
    "#fig"
   ]
  },
  {
   "cell_type": "code",
   "execution_count": null,
   "id": "cc27ab93-b1de-4997-80dd-90114bac2cba",
   "metadata": {},
   "outputs": [],
   "source": [
    "from experiment import gradients_summary\n",
    "run = {}\n",
    "gradients_summary(model, summary=run)"
   ]
  },
  {
   "cell_type": "code",
   "execution_count": null,
   "id": "10d1f7d2-28e0-41f0-a0cb-49dc2e1e69f5",
   "metadata": {},
   "outputs": [],
   "source": [
    "from plots import plot_eigenspectrum\n",
    "\n",
    "plot_eigenspectrum(run, 0)"
   ]
  },
  {
   "cell_type": "code",
   "execution_count": null,
   "id": "d942e786-7886-4b8d-b270-fdbb6c7f3ea8",
   "metadata": {},
   "outputs": [],
   "source": [
    "import matplotlib.pyplot\n",
    "matplotlib.pyplot.gcf()"
   ]
  },
  {
   "cell_type": "code",
   "execution_count": null,
   "id": "974b5cb1-5c7f-4a77-87e0-117c6108d8c1",
   "metadata": {},
   "outputs": [],
   "source": []
  }
 ],
 "metadata": {
  "kernelspec": {
   "display_name": "nns_growth",
   "language": "python",
   "name": "nns_growth"
  },
  "language_info": {
   "codemirror_mode": {
    "name": "ipython",
    "version": 3
   },
   "file_extension": ".py",
   "mimetype": "text/x-python",
   "name": "python",
   "nbconvert_exporter": "python",
   "pygments_lexer": "ipython3",
   "version": "3.10.11"
  }
 },
 "nbformat": 4,
 "nbformat_minor": 5
}
