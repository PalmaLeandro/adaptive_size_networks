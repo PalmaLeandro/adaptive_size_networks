{
 "cells": [
  {
   "cell_type": "code",
   "execution_count": 1,
   "id": "a1b5ad17-55b7-4878-9be1-bdd85a8e02cb",
   "metadata": {},
   "outputs": [],
   "source": [
    "import ipycanvas\n",
    "\n",
    "training_canvas, ranks_canvas, input_domain_canvas = ipycanvas.Canvas(), ipycanvas.Canvas(), ipycanvas.Canvas()\n",
    "training_canvas.width = training_canvas.height = 1000\n",
    "ranks_canvas.width = ranks_canvas.height = 1600\n",
    "input_domain_canvas.width = input_domain_canvas.height = 600\n",
    "training_canvas.font = ranks_canvas.font = input_domain_canvas.font = \"30px arial\"\n",
    "args = ('Results will appear as processed', training_canvas.width / 4, training_canvas.height / 3)\n",
    "training_canvas.fill_text(*args); ranks_canvas.fill_text(*args); input_domain_canvas.fill_text(*args)"
   ]
  },
  {
   "cell_type": "code",
   "execution_count": 2,
   "id": "da6eb3ab-e384-4f3b-8a58-bdd94aed2448",
   "metadata": {},
   "outputs": [
    {
     "data": {
      "application/vnd.jupyter.widget-view+json": {
       "model_id": "c55264a5cc974b0888e5307367226c48",
       "version_major": 2,
       "version_minor": 0
      },
      "text/plain": [
       "Canvas(height=1000, width=1000)"
      ]
     },
     "execution_count": 2,
     "metadata": {},
     "output_type": "execute_result"
    }
   ],
   "source": [
    "training_canvas"
   ]
  },
  {
   "cell_type": "code",
   "execution_count": 3,
   "id": "f7df26f5-d824-4b55-be75-cddfa4cd1645",
   "metadata": {},
   "outputs": [
    {
     "data": {
      "application/vnd.jupyter.widget-view+json": {
       "model_id": "9bd375b6e3834c62a1fb455381bdff39",
       "version_major": 2,
       "version_minor": 0
      },
      "text/plain": [
       "Canvas(height=1600, width=1600)"
      ]
     },
     "execution_count": 3,
     "metadata": {},
     "output_type": "execute_result"
    }
   ],
   "source": [
    "ranks_canvas"
   ]
  },
  {
   "cell_type": "code",
   "execution_count": 4,
   "id": "15ee36ad-bca0-4205-840f-6842e661017a",
   "metadata": {},
   "outputs": [
    {
     "data": {
      "application/vnd.jupyter.widget-view+json": {
       "model_id": "3d3a4dede21943a286e6acbb2fbb0c12",
       "version_major": 2,
       "version_minor": 0
      },
      "text/plain": [
       "Canvas(height=600, width=600)"
      ]
     },
     "execution_count": 4,
     "metadata": {},
     "output_type": "execute_result"
    }
   ],
   "source": [
    "input_domain_canvas"
   ]
  },
  {
   "cell_type": "code",
   "execution_count": 5,
   "id": "3189a0f4-e94c-4271-aea1-a28bd336434c",
   "metadata": {},
   "outputs": [
    {
     "ename": "RuntimeError",
     "evalue": "expected m1 and m2 to have the same dtype, but got: float != double",
     "output_type": "error",
     "traceback": [
      "\u001b[0;31m---------------------------------------------------------------------------\u001b[0m",
      "\u001b[0;31mRuntimeError\u001b[0m                              Traceback (most recent call last)",
      "Cell \u001b[0;32mIn[5], line 4\u001b[0m\n\u001b[1;32m      1\u001b[0m \u001b[38;5;28;01mfrom\u001b[39;00m \u001b[38;5;21;01mexperiment\u001b[39;00m \u001b[38;5;28;01mimport\u001b[39;00m execute_experiment\n\u001b[1;32m      2\u001b[0m \u001b[38;5;28;01mfrom\u001b[39;00m \u001b[38;5;21;01mplots\u001b[39;00m \u001b[38;5;28;01mimport\u001b[39;00m plot_eigenspectrum_on_canvas, plot_samples_and_model_activation_on_canvas\n\u001b[0;32m----> 4\u001b[0m experiment_results \u001b[38;5;241m=\u001b[39m \u001b[43mexecute_experiment\u001b[49m\u001b[43m(\u001b[49m\n\u001b[1;32m      5\u001b[0m \u001b[43m    \u001b[49m\u001b[43mseed\u001b[49m\u001b[38;5;241;43m=\u001b[39;49m\u001b[38;5;241;43m12345\u001b[39;49m\u001b[43m,\u001b[49m\n\u001b[1;32m      6\u001b[0m \u001b[43m    \u001b[49m\u001b[43minput_dimension\u001b[49m\u001b[38;5;241;43m=\u001b[39;49m\u001b[38;5;241;43m2\u001b[39;49m\u001b[43m,\u001b[49m\n\u001b[1;32m      7\u001b[0m \u001b[43m    \u001b[49m\u001b[43msample_size\u001b[49m\u001b[38;5;241;43m=\u001b[39;49m\u001b[38;5;241;43m5000\u001b[39;49m\u001b[43m,\u001b[49m\n\u001b[1;32m      8\u001b[0m \u001b[43m    \u001b[49m\u001b[43mbatch_size\u001b[49m\u001b[38;5;241;43m=\u001b[39;49m\u001b[38;5;241;43m5000\u001b[39;49m\u001b[43m,\u001b[49m\n\u001b[1;32m      9\u001b[0m \u001b[43m    \u001b[49m\u001b[43mepochs\u001b[49m\u001b[38;5;241;43m=\u001b[39;49m\u001b[38;5;241;43m1000\u001b[39;49m\u001b[43m,\u001b[49m\n\u001b[1;32m     10\u001b[0m \u001b[43m    \u001b[49m\u001b[43mlearning_rate\u001b[49m\u001b[38;5;241;43m=\u001b[39;49m\u001b[38;5;241;43m0.05\u001b[39;49m\u001b[43m,\u001b[49m\n\u001b[1;32m     11\u001b[0m \u001b[43m    \u001b[49m\u001b[43mhidden_units\u001b[49m\u001b[38;5;241;43m=\u001b[39;49m\u001b[38;5;241;43m500\u001b[39;49m\u001b[43m,\u001b[49m\n\u001b[1;32m     12\u001b[0m \u001b[43m    \u001b[49m\u001b[43mbias\u001b[49m\u001b[38;5;241;43m=\u001b[39;49m\u001b[38;5;28;43;01mTrue\u001b[39;49;00m\u001b[43m,\u001b[49m\n\u001b[1;32m     13\u001b[0m \u001b[43m    \u001b[49m\u001b[43mmargin\u001b[49m\u001b[38;5;241;43m=\u001b[39;49m\u001b[38;5;241;43m0.5\u001b[39;49m\u001b[43m,\u001b[49m\n\u001b[1;32m     14\u001b[0m \u001b[43m    \u001b[49m\u001b[43msave_models_path\u001b[49m\u001b[38;5;241;43m=\u001b[39;49m\u001b[38;5;124;43m'\u001b[39;49m\u001b[38;5;124;43m./models/\u001b[39;49m\u001b[38;5;124;43m'\u001b[39;49m\u001b[43m,\u001b[49m\n\u001b[1;32m     15\u001b[0m \u001b[43m    \u001b[49m\u001b[43msave_experiments_path\u001b[49m\u001b[38;5;241;43m=\u001b[39;49m\u001b[38;5;124;43m'\u001b[39;49m\u001b[38;5;124;43m./experiments/\u001b[39;49m\u001b[38;5;124;43m'\u001b[39;49m\u001b[43m,\u001b[49m\n\u001b[1;32m     16\u001b[0m \u001b[43m    \u001b[49m\u001b[43msaving_epochs_interval\u001b[49m\u001b[38;5;241;43m=\u001b[39;49m\u001b[38;5;241;43m100\u001b[39;49m\u001b[43m,\u001b[49m\n\u001b[1;32m     17\u001b[0m \u001b[43m    \u001b[49m\u001b[43mplot_results_on_canvas\u001b[49m\u001b[38;5;241;43m=\u001b[39;49m\u001b[43mtraining_canvas\u001b[49m\u001b[43m,\u001b[49m\n\u001b[1;32m     18\u001b[0m \u001b[43m    \u001b[49m\u001b[43mcallbacks\u001b[49m\u001b[38;5;241;43m=\u001b[39;49m\u001b[43m[\u001b[49m\n\u001b[1;32m     19\u001b[0m \u001b[43m        \u001b[49m\u001b[43mplot_eigenspectrum_on_canvas\u001b[49m\u001b[43m(\u001b[49m\u001b[43mranks_canvas\u001b[49m\u001b[43m)\u001b[49m\u001b[43m,\u001b[49m\u001b[43m \u001b[49m\n\u001b[1;32m     20\u001b[0m \u001b[43m        \u001b[49m\u001b[43mplot_samples_and_model_activation_on_canvas\u001b[49m\u001b[43m(\u001b[49m\u001b[43minput_domain_canvas\u001b[49m\u001b[43m)\u001b[49m\n\u001b[1;32m     21\u001b[0m \u001b[43m    \u001b[49m\u001b[43m]\u001b[49m\n\u001b[1;32m     22\u001b[0m \u001b[43m)\u001b[49m\n",
      "File \u001b[0;32m~/Documents/git/nns_growth/notebooks/eigenvalue_magnitude_based_growth/experiment.py:33\u001b[0m, in \u001b[0;36mexecute_experiment\u001b[0;34m(seed, input_dimension, sample_size, batch_size, epochs, learning_rate, hidden_units, bias, margin, save_models_path, save_experiments_path, plot_results, plot_results_on_canvas, saving_epochs_interval, verbose, callbacks, **kwargs)\u001b[0m\n\u001b[1;32m     16\u001b[0m device \u001b[38;5;241m=\u001b[39m initialize(seed)\n\u001b[1;32m     17\u001b[0m experiment \u001b[38;5;241m=\u001b[39m {\n\u001b[1;32m     18\u001b[0m     \u001b[38;5;124m'\u001b[39m\u001b[38;5;124mseed\u001b[39m\u001b[38;5;124m'\u001b[39m: seed,\n\u001b[1;32m     19\u001b[0m     \u001b[38;5;124m'\u001b[39m\u001b[38;5;124minput_dimension\u001b[39m\u001b[38;5;124m'\u001b[39m: input_dimension,\n\u001b[0;32m   (...)\u001b[0m\n\u001b[1;32m     31\u001b[0m     \u001b[38;5;124m'\u001b[39m\u001b[38;5;124mmodels_runs\u001b[39m\u001b[38;5;124m'\u001b[39m: []\n\u001b[1;32m     32\u001b[0m }\n\u001b[0;32m---> 33\u001b[0m train_data, test_data \u001b[38;5;241m=\u001b[39m \u001b[43mconcentric_spheres\u001b[49m\u001b[38;5;241;43m.\u001b[39;49m\u001b[43mget_dataloader\u001b[49m\u001b[43m(\u001b[49m\u001b[38;5;241;43m*\u001b[39;49m\u001b[38;5;241;43m*\u001b[39;49m\u001b[43mexperiment\u001b[49m\u001b[43m)\u001b[49m, concentric_spheres\u001b[38;5;241m.\u001b[39mget_dataloader(\u001b[38;5;241m*\u001b[39m\u001b[38;5;241m*\u001b[39mexperiment)\n\u001b[1;32m     34\u001b[0m model \u001b[38;5;241m=\u001b[39m TwoLayerNeuralNet(\u001b[38;5;241m*\u001b[39m\u001b[38;5;241m*\u001b[39mexperiment)\u001b[38;5;241m.\u001b[39mto(device)\n\u001b[1;32m     35\u001b[0m train_loss, test_loss \u001b[38;5;241m=\u001b[39m torch\u001b[38;5;241m.\u001b[39mnn\u001b[38;5;241m.\u001b[39mBCEWithLogitsLoss(), Accuracy\n",
      "File \u001b[0;32m~/Documents/git/nns_growth/notebooks/settings/concentric_spheres.py:21\u001b[0m, in \u001b[0;36mget_dataloader\u001b[0;34m(input_dimension, sample_size, batch_size, spheres_dimension, margin, rotation_matrix, *args, **kwargs)\u001b[0m\n\u001b[1;32m     18\u001b[0m     inputs \u001b[38;5;241m=\u001b[39m inputs\u001b[38;5;241m.\u001b[39mconcatenate(torch\u001b[38;5;241m.\u001b[39mnormal(mean\u001b[38;5;241m=\u001b[39m\u001b[38;5;241m0\u001b[39m, std\u001b[38;5;241m=\u001b[39m\u001b[38;5;241m1\u001b[39m, size\u001b[38;5;241m=\u001b[39m(sample_size, input_dimension \u001b[38;5;241m-\u001b[39m spheres_dimension), dtype\u001b[38;5;241m=\u001b[39mtorch\u001b[38;5;241m.\u001b[39mfloat32))\n\u001b[1;32m     20\u001b[0m rotation_matrix_ \u001b[38;5;241m=\u001b[39m scipy\u001b[38;5;241m.\u001b[39mstats\u001b[38;5;241m.\u001b[39mspecial_ortho_group\u001b[38;5;241m.\u001b[39mrvs(input_dimension) \u001b[38;5;28;01mif\u001b[39;00m rotation_matrix \u001b[38;5;129;01mis\u001b[39;00m \u001b[38;5;28;01mNone\u001b[39;00m \u001b[38;5;28;01melse\u001b[39;00m rotation_matrix\n\u001b[0;32m---> 21\u001b[0m inputs \u001b[38;5;241m=\u001b[39m \u001b[43minputs\u001b[49m\u001b[38;5;241;43m.\u001b[39;49m\u001b[43mmm\u001b[49m\u001b[43m(\u001b[49m\u001b[43mtorch\u001b[49m\u001b[38;5;241;43m.\u001b[39;49m\u001b[43mtensor\u001b[49m\u001b[43m(\u001b[49m\u001b[43mrotation_matrix_\u001b[49m\u001b[43m)\u001b[49m\u001b[43m)\u001b[49m\n\u001b[1;32m     23\u001b[0m dataset \u001b[38;5;241m=\u001b[39m torch\u001b[38;5;241m.\u001b[39mutils\u001b[38;5;241m.\u001b[39mdata\u001b[38;5;241m.\u001b[39mTensorDataset(inputs, labels)\n\u001b[1;32m     24\u001b[0m dataloader \u001b[38;5;241m=\u001b[39m torch\u001b[38;5;241m.\u001b[39mutils\u001b[38;5;241m.\u001b[39mdata\u001b[38;5;241m.\u001b[39mDataLoader(dataset, batch_size\u001b[38;5;241m=\u001b[39msample_size \u001b[38;5;28;01mif\u001b[39;00m batch_size \u001b[38;5;129;01mis\u001b[39;00m \u001b[38;5;28;01mNone\u001b[39;00m \u001b[38;5;28;01melse\u001b[39;00m batch_size, shuffle\u001b[38;5;241m=\u001b[39m\u001b[38;5;28;01mTrue\u001b[39;00m)\n",
      "\u001b[0;31mRuntimeError\u001b[0m: expected m1 and m2 to have the same dtype, but got: float != double"
     ]
    }
   ],
   "source": [
    "from experiment import execute_experiment\n",
    "from plots import plot_eigenspectrum_on_canvas, plot_samples_and_model_activation_on_canvas\n",
    "\n",
    "experiment_results = execute_experiment(\n",
    "    seed=12345,\n",
    "    input_dimension=2,\n",
    "    sample_size=5000,\n",
    "    batch_size=5000,\n",
    "    epochs=1000,\n",
    "    learning_rate=0.05,\n",
    "    hidden_units=500,\n",
    "    bias=True,\n",
    "    margin=0.5,\n",
    "    save_models_path='./models/',\n",
    "    save_experiments_path='./experiments/',\n",
    "    saving_epochs_interval=100,\n",
    "    plot_results_on_canvas=training_canvas,\n",
    "    callbacks=[\n",
    "        plot_eigenspectrum_on_canvas(ranks_canvas), \n",
    "        plot_samples_and_model_activation_on_canvas(input_domain_canvas)\n",
    "    ]\n",
    ")"
   ]
  },
  {
   "cell_type": "code",
   "execution_count": null,
   "id": "05859e63-332a-489a-ad16-fbd8a27ef264",
   "metadata": {},
   "outputs": [],
   "source": [
    "stop"
   ]
  },
  {
   "cell_type": "code",
   "execution_count": null,
   "id": "a636f083-c798-4b13-a22e-c94e19af5c09",
   "metadata": {},
   "outputs": [],
   "source": [
    "import numpy, torch, matplotlib.cm\n",
    "\n",
    "from experiment import TwoLayerNeuralNet\n",
    "from settings.concentric_spheres import get_dataloader\n",
    "from utils.optimization import Accuracy, initialize\n",
    "from plots import plot_samples_and_model_activation\n",
    "from utils.persistance import parameters_from_file_path\n",
    "\n",
    "experiment_results = dict(\n",
    "    seed=12345,\n",
    "    input_dimension=2,\n",
    "    sample_size=5000,\n",
    "    batch_size=5000,\n",
    "    epochs=1000,\n",
    "    learning_rate=0.05,\n",
    "    hidden_units=500,\n",
    "    bias=True,\n",
    "    margin=0.5,\n",
    "    save_models_path='./models/',\n",
    "    save_experiments_path='./experiments/',\n",
    "    saving_epochs_interval=100)\n",
    "\n",
    "initialize(experiment_results['seed'])\n",
    "\n",
    "data = get_dataloader(**experiment_results)\n",
    "_, (inputs, labels) = next(enumerate(data))\n",
    "\n",
    "model = TwoLayerNeuralNet.load('./models/', **experiment_results)\n",
    "predictions = model(inputs)\n",
    "print(f'Train accuracy: {Accuracy(predictions, labels)}')\n",
    "\n",
    "fig = plot_samples_and_model_activation(data, model, experiment_results['input_dimension'])\n",
    "[ax] = fig.axes\n",
    "\n",
    "loss = torch.nn.BCEWithLogitsLoss()(predictions, labels)\n",
    "loss.backward()\n",
    "\n",
    "outer_product_d_L_d_sigma = model.dummy_variable1.grad.detach().cpu().numpy()\n",
    "eigvals, eigvecs = numpy.linalg.eig(outer_product_d_L_d_sigma)\n",
    "eigvals = abs(eigvals.real)\n",
    "eigvecs = numpy.array(list(map(lambda x: x[1], sorted(zip(eigvals, eigvecs.real.transpose()), key=lambda x: x[0], reverse=True))))\n",
    "eigvals = sorted(eigvals, reverse=True)\n",
    "r_k = [sum(eigvals[k:]) / eigenvalue for k, eigenvalue in enumerate(eigvals[:-1]) if eigenvalue > 0][:-1]\n",
    "k_star = r_k.index(min(r_k))\n",
    "\n",
    "eigvecs_weights = numpy.matmul(eigvecs[:k_star], model.input_layer.weight.data.detach().cpu().numpy())\n",
    "eigvecs_biases = numpy.matmul(eigvecs[:k_star], model.input_layer.bias.data.detach().cpu().numpy()).tolist()\n",
    "colors = matplotlib.cm.OrRd_r(numpy.linspace(.2, .6, k_star))\n",
    "for eigenvector, bias, color in zip(eigvecs_weights, eigvecs_biases, colors):\n",
    "    ax.arrow(*(bias * eigenvector / numpy.linalg.norm(eigenvector)).tolist(), *eigenvector, color=color)\n",
    "\n",
    "fig\n",
    "\n",
    "ax.set_xlim(-1, 1)\n",
    "ax.set_ylim(-1, 1)\n",
    "#fig"
   ]
  },
  {
   "cell_type": "code",
   "execution_count": null,
   "id": "bc0c2d8d-9b4f-46eb-92ed-f6aa5abc8704",
   "metadata": {},
   "outputs": [],
   "source": [
    "from experiment import gradients_summary\n",
    "run = {}\n",
    "gradients_summary(model, summary=run)"
   ]
  },
  {
   "cell_type": "code",
   "execution_count": null,
   "id": "2d6b7bf8-dba8-485d-806c-7b1e1211780c",
   "metadata": {},
   "outputs": [],
   "source": [
    "from plots import plot_eigenspectrum\n",
    "\n",
    "plot_eigenspectrum(run, 0)"
   ]
  },
  {
   "cell_type": "code",
   "execution_count": null,
   "id": "73b02e69-17e0-4d82-a4cc-301e1545205b",
   "metadata": {},
   "outputs": [],
   "source": [
    "import matplotlib.pyplot\n",
    "matplotlib.pyplot.gcf()"
   ]
  },
  {
   "cell_type": "code",
   "execution_count": null,
   "id": "41ec0b42-e398-48df-81eb-5d6114c0aeea",
   "metadata": {},
   "outputs": [],
   "source": []
  },
  {
   "cell_type": "code",
   "execution_count": null,
   "id": "773aa1ea-a6c9-41db-9069-c58d565096bc",
   "metadata": {},
   "outputs": [],
   "source": [
    "plot_samples_and_model_activation(data, model, experiment_results['input_dimension'])"
   ]
  },
  {
   "cell_type": "code",
   "execution_count": null,
   "id": "73c05fd8-0e67-4921-a8e9-4806654a50d4",
   "metadata": {},
   "outputs": [],
   "source": [
    "model.pruning_mask = torch.concatenate([torch.ones(50), torch.zeros(68 - 50), torch.ones(100-68)])#((model.pruning_mask != torch.tensor(eigvecs[1])).long()!=torch.tensor(eigvecs[3])).long()"
   ]
  },
  {
   "cell_type": "code",
   "execution_count": null,
   "id": "70fc6f0c-dfb2-4ca9-a42d-184e9acabebc",
   "metadata": {},
   "outputs": [],
   "source": [
    "eigvecs[:10]"
   ]
  },
  {
   "cell_type": "code",
   "execution_count": null,
   "id": "02b76853-ec74-4992-96fe-c67450f46885",
   "metadata": {},
   "outputs": [],
   "source": [
    "x = numpy.linalg.norm(eigvecs, ord=0, axis=1)\n",
    "eigvecs[numpy.where(x == x.min())[0]].argmax(axis=1)"
   ]
  },
  {
   "cell_type": "code",
   "execution_count": null,
   "id": "85e6408a-ad32-4413-9360-bcdb0c2c85d1",
   "metadata": {},
   "outputs": [],
   "source": [
    "eigvals"
   ]
  },
  {
   "cell_type": "code",
   "execution_count": null,
   "id": "2ad8d53b-e230-4779-963f-7a0fc824b187",
   "metadata": {},
   "outputs": [],
   "source": []
  }
 ],
 "metadata": {
  "kernelspec": {
   "display_name": "nns_growth",
   "language": "python",
   "name": "nns_growth"
  },
  "language_info": {
   "codemirror_mode": {
    "name": "ipython",
    "version": 3
   },
   "file_extension": ".py",
   "mimetype": "text/x-python",
   "name": "python",
   "nbconvert_exporter": "python",
   "pygments_lexer": "ipython3",
   "version": "3.10.11"
  }
 },
 "nbformat": 4,
 "nbformat_minor": 5
}
