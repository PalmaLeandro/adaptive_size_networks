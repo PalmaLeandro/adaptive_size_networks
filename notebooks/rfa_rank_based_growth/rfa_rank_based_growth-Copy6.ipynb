{
 "cells": [
  {
   "attachments": {},
   "cell_type": "markdown",
   "id": "ce9b5d69",
   "metadata": {
    "slideshow": {
     "slide_type": "slide"
    },
    "tags": []
   },
   "source": [
    "# RFA-based NN growth experiment (WIP)\n",
    "# TODO"
   ]
  },
  {
   "cell_type": "code",
   "execution_count": 1,
   "id": "7a8706de",
   "metadata": {},
   "outputs": [],
   "source": [
    "import ipycanvas\n",
    "\n",
    "training_canvas, ranks_canvas, input_domain_canvas = ipycanvas.Canvas(), ipycanvas.Canvas(), ipycanvas.Canvas()\n",
    "\n",
    "training_canvas.width = training_canvas.height = 1000\n",
    "ranks_canvas.width = 1200\n",
    "ranks_canvas.height = 600\n",
    "input_domain_canvas.width = input_domain_canvas.height = 600\n",
    "training_canvas.font = ranks_canvas.font = input_domain_canvas.font = \"30px arial\"\n",
    "\n",
    "args = ('Results will appear as processed', training_canvas.width / 4, training_canvas.height / 3)\n",
    "training_canvas.fill_text(*args); ranks_canvas.fill_text(*args); input_domain_canvas.fill_text(*args)"
   ]
  },
  {
   "cell_type": "code",
   "execution_count": 2,
   "id": "4d5b15cf",
   "metadata": {},
   "outputs": [
    {
     "data": {
      "application/vnd.jupyter.widget-view+json": {
       "model_id": "32d67d6e168e49cb88e2127c02d5b421",
       "version_major": 2,
       "version_minor": 0
      },
      "text/plain": [
       "Canvas(height=1000, width=1000)"
      ]
     },
     "execution_count": 2,
     "metadata": {},
     "output_type": "execute_result"
    }
   ],
   "source": [
    "training_canvas"
   ]
  },
  {
   "cell_type": "code",
   "execution_count": 3,
   "id": "816a92fd",
   "metadata": {},
   "outputs": [
    {
     "data": {
      "application/vnd.jupyter.widget-view+json": {
       "model_id": "5ce576c6f1994d27a1ad9594d78c1589",
       "version_major": 2,
       "version_minor": 0
      },
      "text/plain": [
       "Canvas(height=600, width=1200)"
      ]
     },
     "execution_count": 3,
     "metadata": {},
     "output_type": "execute_result"
    }
   ],
   "source": [
    "ranks_canvas"
   ]
  },
  {
   "cell_type": "code",
   "execution_count": 4,
   "id": "a1619998",
   "metadata": {},
   "outputs": [
    {
     "data": {
      "application/vnd.jupyter.widget-view+json": {
       "model_id": "e66af82d6bac4fd59635cf08b3a81a64",
       "version_major": 2,
       "version_minor": 0
      },
      "text/plain": [
       "Canvas(height=600, width=600)"
      ]
     },
     "execution_count": 4,
     "metadata": {},
     "output_type": "execute_result"
    }
   ],
   "source": [
    "input_domain_canvas"
   ]
  },
  {
   "cell_type": "code",
   "execution_count": null,
   "id": "9bc6e098",
   "metadata": {},
   "outputs": [],
   "source": [
    "from experiment import execute_experiment\n",
    "from plots import plot_effective_rank_and_detected_noise_on_canvas, plot_samples_and_model_activation_on_canvas\n",
    "\n",
    "experiment_results = execute_experiment(\n",
    "    seed=12345,\n",
    "    noise_rate=0.,\n",
    "    within_cluster_variance=1. / 50.,\n",
    "    input_dimension=300,\n",
    "    sample_size=5000,\n",
    "    batch_size=5000,\n",
    "    epochs=1000,\n",
    "    learning_rate=0.05,\n",
    "    hidden_units=12,\n",
    "    initialization_variance=1 / (32. * 500.),\n",
    "    runs_per_model=1,\n",
    "    clusters_per_class=2,\n",
    "    convergence_epsilon=0.1,\n",
    "    save_models_path='./models/',\n",
    "    save_experiments_path='./experiments/',\n",
    "    saving_epochs_interval=1,\n",
    "    plot_results_on_canvas=training_canvas,\n",
    "    callbacks=[\n",
    "        plot_effective_rank_and_detected_noise_on_canvas(ranks_canvas), \n",
    "        plot_samples_and_model_activation_on_canvas(input_domain_canvas)\n",
    "    ]\n",
    ")"
   ]
  }
 ],
 "metadata": {
  "kernelspec": {
   "display_name": "Python 3 (ipykernel)",
   "language": "python",
   "name": "python3"
  },
  "language_info": {
   "codemirror_mode": {
    "name": "ipython",
    "version": 3
   },
   "file_extension": ".py",
   "mimetype": "text/x-python",
   "name": "python",
   "nbconvert_exporter": "python",
   "pygments_lexer": "ipython3",
   "version": "3.10.11"
  }
 },
 "nbformat": 4,
 "nbformat_minor": 5
}
