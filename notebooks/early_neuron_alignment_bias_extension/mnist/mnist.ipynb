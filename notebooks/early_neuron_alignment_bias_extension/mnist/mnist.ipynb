{
 "cells": [
  {
   "cell_type": "code",
   "execution_count": 1,
   "id": "d8546fab-ad68-4215-bfc4-2e954ae8785d",
   "metadata": {
    "metadata": {}
   },
   "outputs": [],
   "source": [
    "import os, sys, time, torch, torchvision\n",
    "\n",
    "sys.path.append(os.path.abspath(os.path.join('../..')))  # Allow repository modules to be imported\n",
    "\n",
    "from utils.optimization import initialize\n",
    "\n",
    "experiment = {\n",
    "    'dataset': 'mnist',\n",
    "    'classes': 10,\n",
    "    'seed': 1234,\n",
    "    'input_dimension': 28 * 28,\n",
    "    'batch_size': 64,\n",
    "    'epochs': 10000,\n",
    "    'learning_rate': 0.001,\n",
    "    'initial_hidden_units': 2,\n",
    "    'initial_depth': 1,\n",
    "    'bias': True,\n",
    "    'convergence_epsilon': 0.00001,\n",
    "    'target_accuracy': .95\n",
    "}\n",
    "override_saved_experiment = False\n",
    "device, generator = initialize(experiment['seed'])\n",
    "transforms = torchvision.transforms.Compose([\n",
    "    torchvision.transforms.ToTensor(),\n",
    "    torchvision.transforms.Normalize((0.1307,), (0.3081,)),\n",
    "    torchvision.transforms.Lambda(torch.flatten)\n",
    "])\n",
    "train_dataset = torchvision.datasets.MNIST(root='./data/', train=True, download=True, transform=transforms)\n",
    "train_data = torch.utils.data.DataLoader(train_dataset, batch_size=experiment['batch_size'], shuffle=True, generator=generator, drop_last=True)\n",
    "test_dataset = torchvision.datasets.MNIST(root='./data/', train=False, download=True, transform=transforms)\n",
    "test_data = torch.utils.data.DataLoader(test_dataset, batch_size=experiment['batch_size'], shuffle=False, generator=generator)\n",
    "experiment['sample_size'] = len(train_data) * experiment['batch_size']"
   ]
  },
  {
   "cell_type": "code",
   "execution_count": 2,
   "id": "a1b5ad17-55b7-4878-9be1-bdd85a8e02cb",
   "metadata": {
    "metadata": {}
   },
   "outputs": [],
   "source": [
    "import ipycanvas\n",
    "\n",
    "training_canvas, growth_metrics_canvas = ipycanvas.Canvas(), ipycanvas.Canvas()\n",
    "training_canvas.width, training_canvas.height = 1200, 600\n",
    "growth_metrics_canvas.width = 1200; growth_metrics_canvas.height = 400\n",
    "training_canvas.font = growth_metrics_canvas.font = \"30px arial\"\n",
    "args = ('Results will appear as processed', training_canvas.width / 4, training_canvas.height / 3)\n",
    "training_canvas.fill_text(*args); growth_metrics_canvas.fill_text(*args)"
   ]
  },
  {
   "cell_type": "code",
   "execution_count": 3,
   "id": "ac9a6e5d",
   "metadata": {},
   "outputs": [
    {
     "data": {
      "application/vnd.jupyter.widget-view+json": {
       "model_id": "6d5cf725832c481fab3973564335e317",
       "version_major": 2,
       "version_minor": 0
      },
      "text/plain": [
       "Canvas(height=600, width=1200)"
      ]
     },
     "execution_count": 3,
     "metadata": {},
     "output_type": "execute_result"
    }
   ],
   "source": [
    "training_canvas"
   ]
  },
  {
   "cell_type": "code",
   "execution_count": 4,
   "id": "71ac4c1e",
   "metadata": {},
   "outputs": [
    {
     "data": {
      "application/vnd.jupyter.widget-view+json": {
       "model_id": "09d2f07d442a4caf82fc566597d410bd",
       "version_major": 2,
       "version_minor": 0
      },
      "text/plain": [
       "Canvas(height=400, width=1200)"
      ]
     },
     "execution_count": 4,
     "metadata": {},
     "output_type": "execute_result"
    }
   ],
   "source": [
    "growth_metrics_canvas"
   ]
  },
  {
   "cell_type": "code",
   "execution_count": 5,
   "id": "b77d780b",
   "metadata": {
    "metadata": {}
   },
   "outputs": [
    {
     "name": "stdout",
     "output_type": "stream",
     "text": [
      "Convergence achieve according to convergence_epsilon = 1e-05\n",
      "Width growth: Two unit with opposing signs were added to layer 0 which now has 4 units\n"
     ]
    }
   ],
   "source": [
    "from utils.optimization import train, test, Accuracy, get_random_states, set_random_states\n",
    "from utils.persistance import experiment_exists, load_experiment, save_experiment\n",
    "from plots import plot_train_loss_and_accuracy, plot_growth_metrics\n",
    "from growing_neural_network import GrowingNeuralNetwork\n",
    "\n",
    "growing_epochs_interval = 20\n",
    "device, generator = initialize(experiment['seed'])\n",
    "if not override_saved_experiment and experiment_exists(**experiment):\n",
    "    experiment = load_experiment(**experiment)\n",
    "    model = GrowingNeuralNetwork.load(**experiment).to(device)\n",
    "    generator = set_random_states(experiment['random_states'])\n",
    "    plot_train_loss_and_accuracy(**experiment, canvas=training_canvas)\n",
    "    plot_growth_metrics(**experiment, canvas=growth_metrics_canvas)\n",
    "\n",
    "else: \n",
    "    model = GrowingNeuralNetwork(**experiment).to(device)\n",
    "\n",
    "train_data.generator = test_data.generator = generator\n",
    "train_loss = torch.nn.CrossEntropyLoss()\n",
    "optimizer = torch.optim.SGD(model.parameters(), lr=experiment['learning_rate'])\n",
    "if 'train' not in experiment:\n",
    "    experiment.update({\n",
    "        'train': [test(train_data, model, train_loss, device)],\n",
    "        'train_time': [0],\n",
    "        'test': [test(test_data, model, train_loss, device, verbose=False)],\n",
    "        'train_accuracy': [test(train_data, model, Accuracy, device, verbose=False)],\n",
    "        'test_accuracy': [test(test_data, model, Accuracy, device, verbose=False)],\n",
    "        'architecture': model.architecture,\n",
    "        'growth_metrics': []\n",
    "    })\n",
    "\n",
    "epochs_already_executed = len(experiment['train'])\n",
    "for epoch in range(epochs_already_executed, experiment['epochs'] + 1):\n",
    "    start_time = time.time()\n",
    "    train(train_data, model, train_loss, optimizer, device, verbose=False)\n",
    "    end_time = time.time()\n",
    "    train_time = experiment['train_time'][-1] + end_time - start_time\n",
    "    train_loss_value = test(train_data, model, train_loss, device, \n",
    "                            calculate_gradients=True, retain_graph=True, verbose=False)\n",
    "    model.calculate_growth_metrics()\n",
    "    if ((epoch % growing_epochs_interval == 0 or epoch == experiment['epochs']) and \n",
    "        abs(experiment['train'][-1] - experiment['train'][-2]) < experiment['convergence_epsilon']):\n",
    "        print(f'Convergence achieve according to convergence_epsilon = {experiment[\"convergence_epsilon\"]}')\n",
    "        if model.remove_dead_units() or model.grow():\n",
    "            optimizer.zero_grad()\n",
    "            optimizer = torch.optim.SGD(model.parameters(), lr=experiment['learning_rate'])\n",
    "            experiment['architecture'] = model.architecture\n",
    "\n",
    "    test_loss_value = test(test_data, model, train_loss, device, verbose=False)\n",
    "    train_accuracy = test(train_data, model, Accuracy, device, verbose=False)\n",
    "    test_accuracy = test(test_data, model, Accuracy, device, verbose=False)\n",
    "    experiment['train'].append(train_loss_value)\n",
    "    experiment['train_time'].append(train_time)\n",
    "    experiment['test'].append(test_loss_value)\n",
    "    experiment['train_accuracy'].append(train_accuracy)\n",
    "    experiment['test_accuracy'].append(test_accuracy)\n",
    "    experiment['growth_metrics'] += [{**growth_metrics, 'epoch': epoch} for growth_metrics in model.growth_metrics]\n",
    "    if epoch % growing_epochs_interval == 0 or epoch == experiment['epochs']:\n",
    "        model.save()\n",
    "        experiment['random_states'] = get_random_states()\n",
    "        save_experiment(experiment)\n",
    "        plot_train_loss_and_accuracy(**experiment, canvas=training_canvas)\n",
    "        plot_growth_metrics(**experiment, canvas=growth_metrics_canvas)"
   ]
  },
  {
   "cell_type": "code",
   "execution_count": null,
   "id": "7ccb4ea2",
   "metadata": {},
   "outputs": [],
   "source": []
  }
 ],
 "metadata": {
  "kernelspec": {
   "display_name": "Python 3 (ipykernel)",
   "language": "python",
   "name": "python3"
  },
  "language_info": {
   "codemirror_mode": {
    "name": "ipython",
    "version": 3
   },
   "file_extension": ".py",
   "mimetype": "text/x-python",
   "name": "python",
   "nbconvert_exporter": "python",
   "pygments_lexer": "ipython3",
   "version": "3.10.11"
  }
 },
 "nbformat": 4,
 "nbformat_minor": 5
}
