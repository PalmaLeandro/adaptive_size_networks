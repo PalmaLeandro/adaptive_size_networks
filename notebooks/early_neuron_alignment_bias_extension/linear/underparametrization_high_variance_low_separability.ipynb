{
 "cells": [
  {
   "cell_type": "code",
   "execution_count": 1,
   "id": "d8546fab-ad68-4215-bfc4-2e954ae8785d",
   "metadata": {
    "metadata": {}
   },
   "outputs": [
    {
     "name": "stderr",
     "output_type": "stream",
     "text": [
      "/var/folders/tw/j68gkt955z57h83crjdjjrg80000gr/T/ipykernel_47619/3421959467.py:39: MatplotlibDeprecationWarning: The get_cmap function was deprecated in Matplotlib 3.7 and will be removed two minor releases later. Use ``matplotlib.colormaps[name]`` or ``matplotlib.colormaps.get_cmap(obj)`` instead.\n",
      "  ax.scatter(inputs_[:, 0], inputs_[:, 1], c=labels, cmap=matplotlib.cm.get_cmap('RdYlBu_r'))\n"
     ]
    },
    {
     "data": {
      "text/plain": [
       "<matplotlib.collections.PathCollection at 0x13b432b60>"
      ]
     },
     "execution_count": 1,
     "metadata": {},
     "output_type": "execute_result"
    },
    {
     "data": {
      "image/png": "[encoded data removed]",
      "text/plain": [
       "<Figure size 1000x1000 with 1 Axes>"
      ]
     },
     "metadata": {},
     "output_type": "display_data"
    }
   ],
   "source": [
    "import os, sys, numpy, torch, matplotlib.pyplot, matplotlib.cm\n",
    "\n",
    "sys.path += [os.path.abspath(os.path.join('..')), os.path.abspath(os.path.join('../..'))]  # Allow repository modules to be imported\n",
    "\n",
    "from settings.noisy_xor import get_dataloader\n",
    "from utils.optimization import initialize\n",
    "\n",
    "experiment = {\n",
    "    'dataset': 'linear',\n",
    "    'seed': 1,\n",
    "    'input_dimension': 2, \n",
    "    'sample_size': 5000,  \n",
    "    'batch_size': 5000, \n",
    "    'within_cluster_variance': 10e-3,\n",
    "    'clusters_per_class': 1, \n",
    "    'epochs': 1000,\n",
    "    'learning_rate': 0.1,\n",
    "    'initial_hidden_units': 2,\n",
    "    'initialization_variance': 1e-5,\n",
    "    'bias': False,\n",
    "    'balanced_initialization': True,\n",
    "    'scale_inputs': 0.5,\n",
    "    'shift_inputs': [0, 1],\n",
    "    'initial_weights': [[0, 1e-5],] * 2\n",
    "}\n",
    "figures_path='./plots/underparametrization_high_variance_low_separability/'\n",
    "rotation_matrix = numpy.identity(experiment['input_dimension'])\n",
    "device, generator = initialize(experiment['seed'])\n",
    "train_data = get_dataloader(**experiment, rotation_matrix=rotation_matrix, generator=generator)\n",
    "test_data = get_dataloader(**experiment, rotation_matrix=rotation_matrix, generator=generator)\n",
    "inputs = []; labels = []\n",
    "for batch_inputs, batch_labels in train_data: inputs.append(batch_inputs); labels.append(batch_labels)\n",
    "inputs, labels = torch.concatenate(inputs), torch.concatenate(labels)\n",
    "\n",
    "fig, ax = matplotlib.pyplot.subplots(figsize=(10, 10))\n",
    "inputs_ = numpy.matmul(inputs.detach().cpu().numpy(), rotation_matrix.transpose())\n",
    "ax.hlines(0, -inputs_.max() * 1.1, inputs_.max() * 1.1, color='k')\n",
    "ax.vlines(0, -inputs_.max() * 1.1, inputs_.max() * 1.1, color='k')\n",
    "ax.scatter(inputs_[:, 0], inputs_[:, 1], c=labels, cmap=matplotlib.cm.get_cmap('RdYlBu_r'))"
   ]
  },
  {
   "cell_type": "code",
   "execution_count": 2,
   "id": "a1b5ad17-55b7-4878-9be1-bdd85a8e02cb",
   "metadata": {
    "metadata": {}
   },
   "outputs": [],
   "source": [
    "import ipycanvas\n",
    "\n",
    "training_canvas, weights_and_biases_canvas, gradients_norms_canvas, input_domain_canvas = ipycanvas.Canvas(), ipycanvas.Canvas(), ipycanvas.Canvas(), ipycanvas.Canvas()\n",
    "training_canvas.width, training_canvas.height = 1200, 600\n",
    "weights_and_biases_canvas.width = 800; weights_and_biases_canvas.height = 800\n",
    "gradients_norms_canvas.width = 1200; gradients_norms_canvas.height = 600\n",
    "input_domain_canvas.width = input_domain_canvas.height = 800\n",
    "training_canvas.font = weights_and_biases_canvas.font = gradients_norms_canvas.font = input_domain_canvas.font = \"30px arial\"\n",
    "args = ('Results will appear as processed', training_canvas.width / 4, training_canvas.height / 3)\n",
    "training_canvas.fill_text(*args); weights_and_biases_canvas.fill_text(*args); gradients_norms_canvas.fill_text(*args); input_domain_canvas.fill_text(*args)"
   ]
  },
  {
   "cell_type": "code",
   "execution_count": 3,
   "id": "ac9a6e5d",
   "metadata": {},
   "outputs": [
    {
     "data": {
      "application/vnd.jupyter.widget-view+json": {
       "model_id": "c17bb6f37e9e4b9da952a12a575e83b0",
       "version_major": 2,
       "version_minor": 0
      },
      "text/plain": [
       "Canvas(height=600, width=1200)"
      ]
     },
     "execution_count": 3,
     "metadata": {},
     "output_type": "execute_result"
    }
   ],
   "source": [
    "training_canvas"
   ]
  },
  {
   "cell_type": "code",
   "execution_count": 4,
   "id": "71ac4c1e",
   "metadata": {},
   "outputs": [
    {
     "data": {
      "application/vnd.jupyter.widget-view+json": {
       "model_id": "088e6974baad45719516344b3633c620",
       "version_major": 2,
       "version_minor": 0
      },
      "text/plain": [
       "Canvas(height=800, width=800)"
      ]
     },
     "execution_count": 4,
     "metadata": {},
     "output_type": "execute_result"
    }
   ],
   "source": [
    "weights_and_biases_canvas"
   ]
  },
  {
   "cell_type": "code",
   "execution_count": 5,
   "id": "c361e123",
   "metadata": {},
   "outputs": [
    {
     "data": {
      "application/vnd.jupyter.widget-view+json": {
       "model_id": "96f8c491bc844b47a1b05f020a65a96a",
       "version_major": 2,
       "version_minor": 0
      },
      "text/plain": [
       "Canvas(height=600, width=1200)"
      ]
     },
     "execution_count": 5,
     "metadata": {},
     "output_type": "execute_result"
    }
   ],
   "source": [
    "gradients_norms_canvas"
   ]
  },
  {
   "cell_type": "code",
   "execution_count": 6,
   "id": "f28fedb8",
   "metadata": {},
   "outputs": [
    {
     "data": {
      "application/vnd.jupyter.widget-view+json": {
       "model_id": "59cb15b973e14f9f9d410d80a2e0074d",
       "version_major": 2,
       "version_minor": 0
      },
      "text/plain": [
       "Canvas(height=800, width=800)"
      ]
     },
     "execution_count": 6,
     "metadata": {},
     "output_type": "execute_result"
    }
   ],
   "source": [
    "input_domain_canvas"
   ]
  },
  {
   "cell_type": "code",
   "execution_count": 7,
   "id": "b77d780b",
   "metadata": {
    "metadata": {}
   },
   "outputs": [
    {
     "name": "stderr",
     "output_type": "stream",
     "text": [
      "/Users/LePalma/Documents/git/nns_growth/notebooks/utils/models.py:45: UserWarning: To copy construct from a tensor, it is recommended to use sourceTensor.clone().detach() or sourceTensor.clone().detach().requires_grad_(True), rather than torch.tensor(sourceTensor).\n",
      "  self.output_layer.weight.copy_(self.output_layer.weight.sign() * torch.tensor(self.layers[0].weight.norm(dim=1)))\n"
     ]
    }
   ],
   "source": [
    "from functools import partial\n",
    "from utils.plots import (plot_train_loss_and_accuracy, plot_weights_norm_and_biases, \n",
    "                         plot_weights_and_biases_gradient_norms, plot_samples_activation_hyperplanes)\n",
    "from utils.models import FullyConnectedNeuralNetwork\n",
    "from experiment import execute_experiment\n",
    "\n",
    "save_fig_args = dict(save_figure_path=figures_path, \n",
    "                     figure_name_parameters=['seed', 'within_cluster_variance', 'scale_inputs', 'epoch'])\n",
    "plot_train_loss_and_accuracy = partial(plot_train_loss_and_accuracy, canvas=training_canvas, **save_fig_args)\n",
    "plot_weights_norm_and_biases = partial(plot_weights_norm_and_biases, canvas=weights_and_biases_canvas, **save_fig_args)\n",
    "plot_weights_and_biases_gradient_norms = partial(plot_weights_and_biases_gradient_norms, canvas=gradients_norms_canvas, **save_fig_args)\n",
    "plot_samples_activation_hyperplanes = partial(plot_samples_activation_hyperplanes, canvas=input_domain_canvas, \n",
    "                                              rotation_matrix=rotation_matrix, dataloader=train_data, **save_fig_args)\n",
    "\n",
    "def model_summary(model, model_metrics, epoch, *args, **kwargs):\n",
    "    for layer_index, layer in enumerate(model.layers):\n",
    "        layer_metrics = {'epoch': epoch, 'layer': layer_index, 'hidden_units': layer.weight.shape[0],\n",
    "                         'neurons_weights_norm': layer.weight.norm(dim=1).detach().cpu().tolist()}\n",
    "        if experiment['bias']: layer_metrics.update({'biases': layer.bias.detach().cpu().tolist()})\n",
    "        model_metrics.append(layer_metrics)\n",
    "        \n",
    "    model_metrics.append({'epoch': epoch, 'layer': len(model.layers), 'hidden_units': model.output_layer.weight.shape[1],\n",
    "                          'neurons_weights_norm': model.output_layer.weight.abs().squeeze(dim=0).detach().cpu().tolist()})\n",
    "\n",
    "epochs_to_plot = list(range(10)) + list(range(10, 50, 5)) + list(range(50, 100, 10)) + list(range(100, 500, 50)) + list(range(500, 1000, 100))\n",
    "execute_experiment(\n",
    "    **experiment,\n",
    "    experiment_name_parameters=['seed'],\n",
    "    train_data=train_data, \n",
    "    test_data=test_data, \n",
    "    model_class=FullyConnectedNeuralNetwork,\n",
    "    saving_epochs_interval=experiment['epochs'],\n",
    "    callbacks_epochs=epochs_to_plot,\n",
    "    callbacks=[model_summary, plot_train_loss_and_accuracy, plot_weights_norm_and_biases, \n",
    "               plot_weights_and_biases_gradient_norms, plot_samples_activation_hyperplanes],\n",
    "    override=True\n",
    ")"
   ]
  },
  {
   "cell_type": "code",
   "execution_count": 8,
   "id": "83ea252e",
   "metadata": {},
   "outputs": [],
   "source": [
    "import os, sys, shutil\n",
    "\n",
    "sys.path += [os.path.abspath(os.path.join('..')), os.path.abspath(os.path.join('../..'))]  # Allow repository modules to be imported\n",
    "\n",
    "from utils.persistance import check_path\n",
    "\n",
    "epochs_to_plot = list(range(10)) + list(range(10, 50, 5)) + list(range(50, 100, 10)) + list(range(100, 500, 50)) + list(range(500, 1000, 100))\n",
    "notebook_name = 'underparametrization_high_variance_low_separability'\n",
    "animation_path = f'./animations/{notebook_name}'\n",
    "check_path(animation_path)\n",
    "figures_path = f'./plots/{notebook_name}/'\n",
    "plot_names = [directory for directory in os.listdir(figures_path) if '.' not in directory]\n",
    "for plot in plot_names:\n",
    "    check_path(os.path.join(animation_path, plot))\n",
    "    for file in [fig_file for fig_file in os.listdir(os.path.join(figures_path, plot)) if 'ds_store' not in fig_file.lower()]:\n",
    "        epoch = int(file.split('_')[-1].split('.')[0])\n",
    "        if epoch in epochs_to_plot:\n",
    "            shutil.copy(os.path.join(figures_path, plot, file), os.path.join(animation_path, plot, f'animation{epochs_to_plot.index(epoch)}.png'))\n"
   ]
  },
  {
   "cell_type": "code",
   "execution_count": null,
   "id": "e3fd4d1d",
   "metadata": {},
   "outputs": [],
   "source": []
  }
 ],
 "metadata": {
  "kernelspec": {
   "display_name": "Python 3 (ipykernel)",
   "language": "python",
   "name": "python3"
  },
  "language_info": {
   "codemirror_mode": {
    "name": "ipython",
    "version": 3
   },
   "file_extension": ".py",
   "mimetype": "text/x-python",
   "name": "python",
   "nbconvert_exporter": "python",
   "pygments_lexer": "ipython3",
   "version": "3.10.11"
  }
 },
 "nbformat": 4,
 "nbformat_minor": 5
}
