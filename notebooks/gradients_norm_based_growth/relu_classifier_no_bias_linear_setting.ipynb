{
 "cells": [
  {
   "cell_type": "code",
   "execution_count": 9,
   "id": "eb264f59-d0b4-4a3a-bab6-2754b989d5f5",
   "metadata": {},
   "outputs": [],
   "source": [
    "import os, sys, time, math, numpy, torch, matplotlib.pyplot\n",
    "\n",
    "sys.path.append(os.path.abspath(os.path.join('..')))  # Allow repository modules to be imported"
   ]
  },
  {
   "cell_type": "markdown",
   "id": "75f41de7-34b3-4fec-bf4c-295f7e8b45ff",
   "metadata": {},
   "source": [
    "# Linear data"
   ]
  },
  {
   "cell_type": "code",
   "execution_count": 10,
   "id": "d8546fab-ad68-4215-bfc4-2e954ae8785d",
   "metadata": {},
   "outputs": [
    {
     "data": {
      "text/plain": [
       "<matplotlib.collections.PathCollection at 0x19343a320>"
      ]
     },
     "execution_count": 10,
     "metadata": {},
     "output_type": "execute_result"
    }
   ],
   "source": [
    "from settings.noisy_xor import get_dataloader\n",
    "\n",
    "data_setting = {\n",
    "    'seed': 12345,\n",
    "    'input_dimension': 2, \n",
    "    'sample_size': 5000,  \n",
    "    'batch_size': 5000, \n",
    "    'noise_rate': 0.,\n",
    "    'within_cluster_variance': 1. / 50.,\n",
    "    'clusters_per_class': 1, \n",
    "    'margin': 1.\n",
    "}\n",
    "\n",
    "data, rotation_matrix = get_dataloader(**data_setting)\n",
    "_, (inputs, labels) = next(enumerate(data))\n",
    "\n",
    "fig, ax = matplotlib.pyplot.subplots(figsize=(10, 10))\n",
    "inputs_ = numpy.matmul(inputs.detach().cpu().numpy(), rotation_matrix.transpose())\n",
    "ax.scatter(inputs_[:, 0], inputs_[:, 1], c=labels)"
   ]
  },
  {
   "cell_type": "code",
   "execution_count": 11,
   "id": "af03851b-250c-4b33-95df-681aec122c45",
   "metadata": {},
   "outputs": [],
   "source": [
    "model_setting = {\n",
    "    'epochs': 10000,\n",
    "    'learning_rate': 0.05,\n",
    "    'batch_size': data_setting['sample_size'],\n",
    "    'initial_hidden_units': 1,\n",
    "    'bias': True,\n",
    "    'initialization_variance': 1. / data_setting['input_dimension'] ** 1.2\n",
    "}\n",
    "\n",
    "\n",
    "class GrowingTwoLayerNeuralNet(torch.nn.Module):\n",
    "\n",
    "    def __init__(self, input_dimension:int, learning_rate:float=0., margin:float=0., noise_rate:float=0., input_domain_radious:float=1.,\n",
    "                 initial_hidden_units:int=1, initial_depth:int=1, bias:bool=True, width_grow_factor:int=1, *args, **kwargs):\n",
    "        super(GrowingTwoLayerNeuralNet, self).__init__()\n",
    "\n",
    "        self.device = 'cpu'\n",
    "        self.input_dimension = input_dimension\n",
    "        self.learning_rate = learning_rate\n",
    "        self.margin = margin\n",
    "        self.noise_rate = noise_rate\n",
    "        self.input_domain_radious = input_domain_radious\n",
    "        self.bias = bias\n",
    "        self.width_grow_factor = width_grow_factor\n",
    "        self.layers = [torch.nn.Linear(input_dimension if layer_index == 0 else initial_hidden_units, initial_hidden_units, bias=bias) \n",
    "                       for layer_index in range(initial_depth)]\n",
    "        self.activation_function = torch.nn.ReLU()\n",
    "        self.output_layer_weights = torch.tensor(([1. / initial_hidden_units ** 0.5] * math.ceil(initial_hidden_units / 2.) + \n",
    "                                                  [-1. / initial_hidden_units ** 0.5] * (initial_hidden_units // 2)))\n",
    "\n",
    "    def parameters(self):\n",
    "        parameters = []\n",
    "        for layer in self.layers: parameters += list(layer.parameters())\n",
    "        return parameters\n",
    "        \n",
    "    def forward(self, x):\n",
    "        x = x.requires_grad_()\n",
    "        x.retain_grad()\n",
    "        self.pre_activations = []\n",
    "        self.activations = []\n",
    "        for layer in self.layers:\n",
    "            pre_activation = layer(x).requires_grad_()\n",
    "            pre_activation.retain_grad()\n",
    "            self.pre_activations.append(pre_activation)\n",
    "            activation = self.activation_function(pre_activation).requires_grad_()\n",
    "            activation.retain_grad()\n",
    "            self.activations.append(activation)\n",
    "            x = activation\n",
    "            \n",
    "        output = torch.matmul(activation, self.output_layer_weights).unsqueeze(1)\n",
    "        return output\n",
    "\n",
    "    def to(self, device):\n",
    "        super().to(device)\n",
    "        for layer_index, layer in enumerate(self.layers):\n",
    "            self.layers[layer_index] = layer.to(device)\n",
    "\n",
    "        self.output_layer_weights = self.output_layer_weights.to(device)\n",
    "        self.device = device\n",
    "        return self\n",
    "\n",
    "    @property\n",
    "    def layer_average_gradient_norm_lower_bound(self):\n",
    "        return (\n",
    "            self.learning_rate * self.margin *                                # minimum possible gradient\n",
    "            math.exp(- self.margin / 2. * 2. * self.input_domain_radious) / \n",
    "            (math.sqrt(2. * math.pi) * 2. * self.input_domain_radious)        # minimum possible probability of overshooting\n",
    "        )\n",
    "\n",
    "    def should_grow_layer_width(self, layer):\n",
    "        layer_average_gradient_norm = self.layers[layer].weight.grad.mean(dim=0).norm().item()  # || E[ ∂L/∂w ] ||\n",
    "        return layer_average_gradient_norm < self.layer_average_gradient_norm_lower_bound\n",
    "\n",
    "    def grow_width(self, layer):\n",
    "        former_weights = self.layers[layer].weight.data.clone()\n",
    "        input_dimension = former_weights.shape[1]\n",
    "        former_hidden_units = former_weights.shape[0]\n",
    "        next_layer_weights = self.layers[layer].weight.data.clone()\n",
    "        next_layer_hidden_units = self.layers[layer + 1].weight.shape[0]\n",
    "        next_layer_new_weights = torch.cat([next_layer_weights, torch.zeros(next_layer_hidden_units)])\n",
    "        self.layers[layer] = torch.nn.Linear(input_dimension, former_hidden_units + self.width_grow_factor, \n",
    "                                                bias=self.bias)\n",
    "        self.layers[layer + 1] = torch.nn.Linear(former_hidden_units + self.width_grow_factor, \n",
    "                                                    next_layer_hidden_units, bias=self.bias)\n",
    "        with torch.no_grad():\n",
    "            self.layers[layer].weight[:former_hidden_units].copy_(former_weights)\n",
    "            self.layers[layer + 1].weight.copy_(next_layer_new_weights)\n",
    "\n",
    "    def layer_gradients_average_norm_upper_bound(self, layer):\n",
    "        layer_average_gradient_norm = self.pre_activations[layer].grad.mean(dim=0).norm().item()  # || E[ ∂L/∂w ] ||\n",
    "        return layer_average_gradient_norm * (1. + (2 *                             # maximum possible discrepancy of labels\n",
    "                                                    2 * self.input_domain_radious * # maximum possible correlation with weight vector\n",
    "                                                    (self.learning_rate +           # account for overshoting \n",
    "                                                     self.noise_rate)))             # account for noisy samples\n",
    "\n",
    "    def should_grow_layer_depth(self, layer):\n",
    "        layer_gradients_average_norm = self.pre_activations[layer].grad.norm(dim=1).mean().item()  # E[ || ∂L/∂w || ]\n",
    "        return layer_gradients_average_norm > self.layer_gradients_average_norm_upper_bound(self, layer)\n",
    "\n",
    "    def grow_depth(self, layer):\n",
    "        hidden_units = self.layers[layer].weight.shape[1]\n",
    "        next_layer_hidden_units = self.layers[layer + 1].weight.shape[0]\n",
    "        self.layers.insert(layer + 1, torch.nn.Linear(hidden_units, next_layer_hidden_units, self.bias))\n",
    "\n",
    "    def grow(self):\n",
    "        for layer in range(len(self.layer)):\n",
    "            if self.should_grow_layer_width(layer):\n",
    "                self.grow_width(layer); return\n",
    "            \n",
    "        for layer in list(reversed(range(len(self.layer)))):\n",
    "            if self.should_grow_layer_width(layer):\n",
    "                self.grow_width(layer); return\n"
   ]
  },
  {
   "cell_type": "code",
   "execution_count": 12,
   "id": "a1b5ad17-55b7-4878-9be1-bdd85a8e02cb",
   "metadata": {},
   "outputs": [],
   "source": [
    "import ipycanvas\n",
    "\n",
    "training_canvas, gradients_norms_canvas, input_domain_canvas = ipycanvas.Canvas(), ipycanvas.Canvas(), ipycanvas.Canvas()\n",
    "training_canvas.width = training_canvas.height = 800\n",
    "gradients_norms_canvas.width = 1200; gradients_norms_canvas.height = 600\n",
    "input_domain_canvas.width = input_domain_canvas.height = 800\n",
    "training_canvas.font = gradients_norms_canvas.font = input_domain_canvas.font = \"30px arial\"\n",
    "args = ('Results will appear as processed', training_canvas.width / 4, training_canvas.height / 3)\n",
    "training_canvas.fill_text(*args); gradients_norms_canvas.fill_text(*args); input_domain_canvas.fill_text(*args)"
   ]
  },
  {
   "cell_type": "code",
   "execution_count": 13,
   "id": "da6eb3ab-e384-4f3b-8a58-bdd94aed2448",
   "metadata": {},
   "outputs": [
    {
     "data": {
      "application/vnd.jupyter.widget-view+json": {
       "model_id": "4c33f22eb7694b87829a8d50762c4c38",
       "version_major": 2,
       "version_minor": 0
      },
      "text/plain": [
       "Canvas(height=800, width=800)"
      ]
     },
     "execution_count": 13,
     "metadata": {},
     "output_type": "execute_result"
    }
   ],
   "source": [
    "training_canvas"
   ]
  },
  {
   "cell_type": "code",
   "execution_count": 14,
   "id": "6177433a",
   "metadata": {},
   "outputs": [
    {
     "data": {
      "application/vnd.jupyter.widget-view+json": {
       "model_id": "593b4b8aea1543f4b2fbd1a2fe0a6abc",
       "version_major": 2,
       "version_minor": 0
      },
      "text/plain": [
       "Canvas(height=600, width=1200)"
      ]
     },
     "execution_count": 14,
     "metadata": {},
     "output_type": "execute_result"
    }
   ],
   "source": [
    "gradients_norms_canvas"
   ]
  },
  {
   "cell_type": "code",
   "execution_count": 15,
   "id": "15ee36ad-bca0-4205-840f-6842e661017a",
   "metadata": {},
   "outputs": [
    {
     "data": {
      "application/vnd.jupyter.widget-view+json": {
       "model_id": "6abc5411b3274d3ba423a272286c767c",
       "version_major": 2,
       "version_minor": 0
      },
      "text/plain": [
       "Canvas(height=800, width=800)"
      ]
     },
     "execution_count": 15,
     "metadata": {},
     "output_type": "execute_result"
    }
   ],
   "source": [
    "input_domain_canvas"
   ]
  },
  {
   "cell_type": "code",
   "execution_count": 16,
   "id": "3189a0f4-e94c-4271-aea1-a28bd336434c",
   "metadata": {},
   "outputs": [
    {
     "name": "stderr",
     "output_type": "stream",
     "text": [
      "/Users/LePalma/Documents/git/nns_growth/notebooks/utils/plotting.py:184: UserWarning: Attempting to set identical low and high ylims makes transformation singular; automatically expanding.\n",
      "  iterations_train_ax.set_ylim(train_y_lim_min, train_y_lim_max)\n",
      "/Users/LePalma/Documents/git/nns_growth/notebooks/utils/plotting.py:185: UserWarning: Attempting to set identical low and high ylims makes transformation singular; automatically expanding.\n",
      "  iterations_test_ax.set_ylim(test_y_lim_min, test_y_lim_max)\n",
      "/Users/LePalma/Documents/git/nns_growth/notebooks/utils/plotting.py:189: UserWarning: Attempting to set identical low and high ylims makes transformation singular; automatically expanding.\n",
      "  time_train_ax.set_ylim(train_y_lim_min, train_y_lim_max)\n",
      "/Users/LePalma/Documents/git/nns_growth/notebooks/utils/plotting.py:190: UserWarning: Attempting to set identical low and high ylims makes transformation singular; automatically expanding.\n",
      "  time_test_ax.set_ylim(test_y_lim_min, test_y_lim_max)\n"
     ]
    },
    {
     "ename": "KeyboardInterrupt",
     "evalue": "",
     "output_type": "error",
     "traceback": [
      "\u001b[0;31m---------------------------------------------------------------------------\u001b[0m",
      "\u001b[0;31mKeyboardInterrupt\u001b[0m                         Traceback (most recent call last)",
      "Cell \u001b[0;32mIn[16], line 60\u001b[0m\n\u001b[1;32m     58\u001b[0m train_time \u001b[38;5;241m=\u001b[39m run[\u001b[38;5;124m'\u001b[39m\u001b[38;5;124mtrain_time\u001b[39m\u001b[38;5;124m'\u001b[39m][\u001b[38;5;241m-\u001b[39m\u001b[38;5;241m1\u001b[39m] \u001b[38;5;241m+\u001b[39m end_time \u001b[38;5;241m-\u001b[39m start_time\n\u001b[1;32m     59\u001b[0m train_loss_value \u001b[38;5;241m=\u001b[39m test(train_data, model, test_loss, device, verbose\u001b[38;5;241m=\u001b[39m\u001b[38;5;28;01mFalse\u001b[39;00m)\n\u001b[0;32m---> 60\u001b[0m test_loss_value \u001b[38;5;241m=\u001b[39m \u001b[43mtest\u001b[49m\u001b[43m(\u001b[49m\u001b[43mtest_data\u001b[49m\u001b[43m,\u001b[49m\u001b[43m \u001b[49m\u001b[43mmodel\u001b[49m\u001b[43m,\u001b[49m\u001b[43m \u001b[49m\u001b[43mtest_loss\u001b[49m\u001b[43m,\u001b[49m\u001b[43m \u001b[49m\u001b[43mdevice\u001b[49m\u001b[43m,\u001b[49m\u001b[43m \u001b[49m\u001b[43mverbose\u001b[49m\u001b[38;5;241;43m=\u001b[39;49m\u001b[38;5;28;43;01mFalse\u001b[39;49;00m\u001b[43m)\u001b[49m\n\u001b[1;32m     61\u001b[0m run[\u001b[38;5;124m'\u001b[39m\u001b[38;5;124mtrain\u001b[39m\u001b[38;5;124m'\u001b[39m]\u001b[38;5;241m.\u001b[39mappend(train_loss_value)\n\u001b[1;32m     62\u001b[0m run[\u001b[38;5;124m'\u001b[39m\u001b[38;5;124mtrain_time\u001b[39m\u001b[38;5;124m'\u001b[39m]\u001b[38;5;241m.\u001b[39mappend(train_time)\n",
      "File \u001b[0;32m~/Documents/git/nns_growth/notebooks/utils/optimization.py:38\u001b[0m, in \u001b[0;36mtest\u001b[0;34m(dataloader, model, loss_fn, device, verbose, calculate_gradients)\u001b[0m\n\u001b[1;32m     36\u001b[0m \u001b[38;5;28;01mwith\u001b[39;00m torch\u001b[38;5;241m.\u001b[39mno_grad():\n\u001b[1;32m     37\u001b[0m     test_loss \u001b[38;5;241m=\u001b[39m \u001b[38;5;241m0\u001b[39m\n\u001b[0;32m---> 38\u001b[0m     \u001b[38;5;28;01mfor\u001b[39;00m X, y \u001b[38;5;129;01min\u001b[39;00m dataloader:\n\u001b[1;32m     39\u001b[0m         X, y \u001b[38;5;241m=\u001b[39m X\u001b[38;5;241m.\u001b[39mto(device), y\u001b[38;5;241m.\u001b[39mto(device)\n\u001b[1;32m     40\u001b[0m         loss \u001b[38;5;241m=\u001b[39m loss_fn(model(X), y)\n",
      "File \u001b[0;32m~/.virtualenvs/nns_growth/lib/python3.10/site-packages/torch/utils/data/dataloader.py:630\u001b[0m, in \u001b[0;36m_BaseDataLoaderIter.__next__\u001b[0;34m(self)\u001b[0m\n\u001b[1;32m    627\u001b[0m \u001b[38;5;28;01mif\u001b[39;00m \u001b[38;5;28mself\u001b[39m\u001b[38;5;241m.\u001b[39m_sampler_iter \u001b[38;5;129;01mis\u001b[39;00m \u001b[38;5;28;01mNone\u001b[39;00m:\n\u001b[1;32m    628\u001b[0m     \u001b[38;5;66;03m# TODO(https://github.com/pytorch/pytorch/issues/76750)\u001b[39;00m\n\u001b[1;32m    629\u001b[0m     \u001b[38;5;28mself\u001b[39m\u001b[38;5;241m.\u001b[39m_reset()  \u001b[38;5;66;03m# type: ignore[call-arg]\u001b[39;00m\n\u001b[0;32m--> 630\u001b[0m data \u001b[38;5;241m=\u001b[39m \u001b[38;5;28;43mself\u001b[39;49m\u001b[38;5;241;43m.\u001b[39;49m\u001b[43m_next_data\u001b[49m\u001b[43m(\u001b[49m\u001b[43m)\u001b[49m\n\u001b[1;32m    631\u001b[0m \u001b[38;5;28mself\u001b[39m\u001b[38;5;241m.\u001b[39m_num_yielded \u001b[38;5;241m+\u001b[39m\u001b[38;5;241m=\u001b[39m \u001b[38;5;241m1\u001b[39m\n\u001b[1;32m    632\u001b[0m \u001b[38;5;28;01mif\u001b[39;00m \u001b[38;5;28mself\u001b[39m\u001b[38;5;241m.\u001b[39m_dataset_kind \u001b[38;5;241m==\u001b[39m _DatasetKind\u001b[38;5;241m.\u001b[39mIterable \u001b[38;5;129;01mand\u001b[39;00m \\\n\u001b[1;32m    633\u001b[0m         \u001b[38;5;28mself\u001b[39m\u001b[38;5;241m.\u001b[39m_IterableDataset_len_called \u001b[38;5;129;01mis\u001b[39;00m \u001b[38;5;129;01mnot\u001b[39;00m \u001b[38;5;28;01mNone\u001b[39;00m \u001b[38;5;129;01mand\u001b[39;00m \\\n\u001b[1;32m    634\u001b[0m         \u001b[38;5;28mself\u001b[39m\u001b[38;5;241m.\u001b[39m_num_yielded \u001b[38;5;241m>\u001b[39m \u001b[38;5;28mself\u001b[39m\u001b[38;5;241m.\u001b[39m_IterableDataset_len_called:\n",
      "File \u001b[0;32m~/.virtualenvs/nns_growth/lib/python3.10/site-packages/torch/utils/data/dataloader.py:674\u001b[0m, in \u001b[0;36m_SingleProcessDataLoaderIter._next_data\u001b[0;34m(self)\u001b[0m\n\u001b[1;32m    672\u001b[0m \u001b[38;5;28;01mdef\u001b[39;00m \u001b[38;5;21m_next_data\u001b[39m(\u001b[38;5;28mself\u001b[39m):\n\u001b[1;32m    673\u001b[0m     index \u001b[38;5;241m=\u001b[39m \u001b[38;5;28mself\u001b[39m\u001b[38;5;241m.\u001b[39m_next_index()  \u001b[38;5;66;03m# may raise StopIteration\u001b[39;00m\n\u001b[0;32m--> 674\u001b[0m     data \u001b[38;5;241m=\u001b[39m \u001b[38;5;28;43mself\u001b[39;49m\u001b[38;5;241;43m.\u001b[39;49m\u001b[43m_dataset_fetcher\u001b[49m\u001b[38;5;241;43m.\u001b[39;49m\u001b[43mfetch\u001b[49m\u001b[43m(\u001b[49m\u001b[43mindex\u001b[49m\u001b[43m)\u001b[49m  \u001b[38;5;66;03m# may raise StopIteration\u001b[39;00m\n\u001b[1;32m    675\u001b[0m     \u001b[38;5;28;01mif\u001b[39;00m \u001b[38;5;28mself\u001b[39m\u001b[38;5;241m.\u001b[39m_pin_memory:\n\u001b[1;32m    676\u001b[0m         data \u001b[38;5;241m=\u001b[39m _utils\u001b[38;5;241m.\u001b[39mpin_memory\u001b[38;5;241m.\u001b[39mpin_memory(data, \u001b[38;5;28mself\u001b[39m\u001b[38;5;241m.\u001b[39m_pin_memory_device)\n",
      "File \u001b[0;32m~/.virtualenvs/nns_growth/lib/python3.10/site-packages/torch/utils/data/_utils/fetch.py:51\u001b[0m, in \u001b[0;36m_MapDatasetFetcher.fetch\u001b[0;34m(self, possibly_batched_index)\u001b[0m\n\u001b[1;32m     49\u001b[0m         data \u001b[38;5;241m=\u001b[39m \u001b[38;5;28mself\u001b[39m\u001b[38;5;241m.\u001b[39mdataset\u001b[38;5;241m.\u001b[39m__getitems__(possibly_batched_index)\n\u001b[1;32m     50\u001b[0m     \u001b[38;5;28;01melse\u001b[39;00m:\n\u001b[0;32m---> 51\u001b[0m         data \u001b[38;5;241m=\u001b[39m [\u001b[38;5;28mself\u001b[39m\u001b[38;5;241m.\u001b[39mdataset[idx] \u001b[38;5;28;01mfor\u001b[39;00m idx \u001b[38;5;129;01min\u001b[39;00m possibly_batched_index]\n\u001b[1;32m     52\u001b[0m \u001b[38;5;28;01melse\u001b[39;00m:\n\u001b[1;32m     53\u001b[0m     data \u001b[38;5;241m=\u001b[39m \u001b[38;5;28mself\u001b[39m\u001b[38;5;241m.\u001b[39mdataset[possibly_batched_index]\n",
      "File \u001b[0;32m~/.virtualenvs/nns_growth/lib/python3.10/site-packages/torch/utils/data/_utils/fetch.py:51\u001b[0m, in \u001b[0;36m<listcomp>\u001b[0;34m(.0)\u001b[0m\n\u001b[1;32m     49\u001b[0m         data \u001b[38;5;241m=\u001b[39m \u001b[38;5;28mself\u001b[39m\u001b[38;5;241m.\u001b[39mdataset\u001b[38;5;241m.\u001b[39m__getitems__(possibly_batched_index)\n\u001b[1;32m     50\u001b[0m     \u001b[38;5;28;01melse\u001b[39;00m:\n\u001b[0;32m---> 51\u001b[0m         data \u001b[38;5;241m=\u001b[39m [\u001b[38;5;28;43mself\u001b[39;49m\u001b[38;5;241;43m.\u001b[39;49m\u001b[43mdataset\u001b[49m\u001b[43m[\u001b[49m\u001b[43midx\u001b[49m\u001b[43m]\u001b[49m \u001b[38;5;28;01mfor\u001b[39;00m idx \u001b[38;5;129;01min\u001b[39;00m possibly_batched_index]\n\u001b[1;32m     52\u001b[0m \u001b[38;5;28;01melse\u001b[39;00m:\n\u001b[1;32m     53\u001b[0m     data \u001b[38;5;241m=\u001b[39m \u001b[38;5;28mself\u001b[39m\u001b[38;5;241m.\u001b[39mdataset[possibly_batched_index]\n",
      "File \u001b[0;32m~/.virtualenvs/nns_growth/lib/python3.10/site-packages/torch/utils/data/dataset.py:208\u001b[0m, in \u001b[0;36mTensorDataset.__getitem__\u001b[0;34m(self, index)\u001b[0m\n\u001b[1;32m    207\u001b[0m \u001b[38;5;28;01mdef\u001b[39;00m \u001b[38;5;21m__getitem__\u001b[39m(\u001b[38;5;28mself\u001b[39m, index):\n\u001b[0;32m--> 208\u001b[0m     \u001b[38;5;28;01mreturn\u001b[39;00m \u001b[38;5;28;43mtuple\u001b[39;49m\u001b[43m(\u001b[49m\u001b[43mtensor\u001b[49m\u001b[43m[\u001b[49m\u001b[43mindex\u001b[49m\u001b[43m]\u001b[49m\u001b[43m \u001b[49m\u001b[38;5;28;43;01mfor\u001b[39;49;00m\u001b[43m \u001b[49m\u001b[43mtensor\u001b[49m\u001b[43m \u001b[49m\u001b[38;5;129;43;01min\u001b[39;49;00m\u001b[43m \u001b[49m\u001b[38;5;28;43mself\u001b[39;49m\u001b[38;5;241;43m.\u001b[39;49m\u001b[43mtensors\u001b[49m\u001b[43m)\u001b[49m\n",
      "File \u001b[0;32m~/.virtualenvs/nns_growth/lib/python3.10/site-packages/torch/utils/data/dataset.py:208\u001b[0m, in \u001b[0;36m<genexpr>\u001b[0;34m(.0)\u001b[0m\n\u001b[1;32m    207\u001b[0m \u001b[38;5;28;01mdef\u001b[39;00m \u001b[38;5;21m__getitem__\u001b[39m(\u001b[38;5;28mself\u001b[39m, index):\n\u001b[0;32m--> 208\u001b[0m     \u001b[38;5;28;01mreturn\u001b[39;00m \u001b[38;5;28mtuple\u001b[39m(tensor[index] \u001b[38;5;28;01mfor\u001b[39;00m tensor \u001b[38;5;129;01min\u001b[39;00m \u001b[38;5;28mself\u001b[39m\u001b[38;5;241m.\u001b[39mtensors)\n",
      "\u001b[0;31mKeyboardInterrupt\u001b[0m: "
     ]
    }
   ],
   "source": [
    "from utils.optimization import initialize, train, test, Accuracy\n",
    "from plots import plot_experiment, plot_gradients_norms, plot_samples_and_model_activation_and_neurons_hyperplanes\n",
    "\n",
    "plots_epochs_interval = 100\n",
    "\n",
    "experiment = {\n",
    "    **data_setting,\n",
    "    **model_setting,\n",
    "    'train': 'Accuracy',\n",
    "    'test': 'Accuracy',\n",
    "    'train_time': 'seconds',\n",
    "    'models_runs': []\n",
    "}\n",
    "\n",
    "device = initialize(experiment['seed'])\n",
    "train_data, rotation_matrix = get_dataloader(**experiment) \n",
    "test_data = get_dataloader(**experiment, rotation_matrix=rotation_matrix)\n",
    "model = GrowingTwoLayerNeuralNet(**experiment).to(device)\n",
    "train_loss, test_loss = torch.nn.BCEWithLogitsLoss(), Accuracy\n",
    "optimizer = torch.optim.SGD(model.parameters(), lr=experiment['learning_rate'])\n",
    "run = {\n",
    "    'distinction': '1',\n",
    "    'train': [test(train_data, model, test_loss, device)],\n",
    "    'train_time': [0],\n",
    "    'test': [test(test_data, model, test_loss, device, verbose=False)]\n",
    "}\n",
    "experiment['models_runs'].append(run)\n",
    "\n",
    "def gradients_summary(model, *args, epoch_frequency=1):\n",
    "    epoch = len(run.get('train', []))\n",
    "    if epoch == 0 or epoch % epoch_frequency != 0: return\n",
    "\n",
    "    pre_activations_gradients_average_norm = []\n",
    "    pre_activations_average_gradient_norm = []\n",
    "    layer_average_gradient_norm_lower_bound = []\n",
    "    layer_gradients_average_norm_upper_bound = []\n",
    "    for layer, pre_activations in enumerate(model.pre_activations):\n",
    "        pre_activations_gradients_average_norm.append(pre_activations.grad.norm(dim=1).mean().item())\n",
    "        pre_activations_average_gradient_norm.append(pre_activations.grad.mean(dim=0).norm().item())\n",
    "        layer_average_gradient_norm_lower_bound.append(model.layer_average_gradient_norm_lower_bound)\n",
    "        layer_gradients_average_norm_upper_bound.append(model.layer_gradients_average_norm_upper_bound(layer))\n",
    "\n",
    "    for field in ('pre_activations_gradients_average_norm', 'pre_activations_average_gradient_norm',\n",
    "                  'layer_average_gradient_norm_lower_bound', 'layer_gradients_average_norm_upper_bound'):\n",
    "        if field not in run: run[field] = []\n",
    "    run['pre_activations_gradients_average_norm'].append(pre_activations_gradients_average_norm)\n",
    "    run['pre_activations_average_gradient_norm'].append(pre_activations_average_gradient_norm)\n",
    "    run['layer_average_gradient_norm_lower_bound'].append(layer_average_gradient_norm_lower_bound)\n",
    "    run['layer_gradients_average_norm_upper_bound'].append(layer_gradients_average_norm_upper_bound)\n",
    "        \n",
    "plot_samples_and_model_activation_and_neurons_hyperplanes(dataloader=train_data, model=model, rotation_matrix=rotation_matrix, \n",
    "                                                          **experiment, canvas=input_domain_canvas)\n",
    "\n",
    "for epoch in range(1, experiment['epochs'] + 1):\n",
    "    start_time = time.time()\n",
    "    train(train_data, model, train_loss, optimizer, device, verbose=False, callback=gradients_summary)\n",
    "    end_time = time.time()\n",
    "    train_time = run['train_time'][-1] + end_time - start_time\n",
    "    train_loss_value = test(train_data, model, test_loss, device, verbose=False)\n",
    "    test_loss_value = test(test_data, model, test_loss, device, verbose=False)\n",
    "    run['train'].append(train_loss_value)\n",
    "    run['train_time'].append(train_time)\n",
    "    run['test'].append(test_loss_value)\n",
    "    if epoch % plots_epochs_interval == 0 or epoch == experiment['epochs']:\n",
    "        plot_experiment(experiment, training_canvas)\n",
    "        plot_gradients_norms(run, canvas=gradients_norms_canvas)\n",
    "        plot_samples_and_model_activation_and_neurons_hyperplanes(\n",
    "            dataloader=train_data, model=model, rotation_matrix=rotation_matrix, **experiment, \n",
    "            canvas=input_domain_canvas\n",
    "        )\n"
   ]
  },
  {
   "cell_type": "code",
   "execution_count": 38,
   "id": "1f73b455",
   "metadata": {},
   "outputs": [
    {
     "name": "stderr",
     "output_type": "stream",
     "text": [
      "/var/folders/tw/j68gkt955z57h83crjdjjrg80000gr/T/ipykernel_38719/628336771.py:30: MatplotlibDeprecationWarning: The get_cmap function was deprecated in Matplotlib 3.7 and will be removed two minor releases later. Use ``matplotlib.colormaps[name]`` or ``matplotlib.colormaps.get_cmap(obj)`` instead.\n",
      "  colors = matplotlib.pyplot.cm.get_cmap('tab10', len(model.pre_activations))\n"
     ]
    },
    {
     "data": {
      "image/png": "[encoded data removed]",
      "text/plain": [
       "<Figure size 1800x600 with 3 Axes>"
      ]
     },
     "execution_count": 38,
     "metadata": {},
     "output_type": "execute_result"
    }
   ],
   "source": [
    "histogram_resolution = 20\n",
    "\n",
    "_, (inputs, labels) = next(enumerate(train_data))\n",
    "inputs, labels = inputs.to(model.device), labels.to(model.device)\n",
    "predictions = model(inputs)\n",
    "per_sample_loss = torch.nn.BCEWithLogitsLoss(reduction='none')(predictions, labels)\n",
    "train_loss(predictions, labels).backward()\n",
    "\n",
    "def histogram_bars(histogram_frequencies, histogram_bins):\n",
    "    histogram_bins = histogram_bins.detach().cpu().numpy()[:-1]\n",
    "    histogram_bins_pace = histogram_bins[1] - histogram_bins[0]\n",
    "    histogram_bins += histogram_bins_pace / 2.\n",
    "    histogram_frequencies = histogram_frequencies.detach().cpu().numpy()\n",
    "    return histogram_bins, histogram_frequencies / histogram_frequencies.sum(), histogram_bins_pace\n",
    "\n",
    "fig, (pre_activations_ax, loss_ax, scatter_ax) = matplotlib.pyplot.subplots(1, 3, figsize=(18, 6))\n",
    "\n",
    "pre_activations_ax.set_title('pre activations gradient')\n",
    "pre_activations_ax.set_xlabel('pre activations gradient L2 norm')\n",
    "pre_activations_ax.set_ylabel('% samples')\n",
    "\n",
    "loss_ax.set_title('Loss')\n",
    "loss_ax.set_xlabel('loss value')\n",
    "loss_ax.set_ylabel('% samples')\n",
    "\n",
    "scatter_ax.set_title('pre activations gradient vs Loss')\n",
    "scatter_ax.set_xlabel('pre activations gradient L2 norm')\n",
    "scatter_ax.set_ylabel('loss')\n",
    "\n",
    "colors = matplotlib.pyplot.cm.get_cmap('tab10', len(model.pre_activations))\n",
    "for layer in range(len(model.pre_activations)):\n",
    "    color = colors(layer)\n",
    "    for label in [0, 1]:\n",
    "        per_sample_grad_norm = model.pre_activations[layer].grad.norm(dim=1).unsqueeze(1)\n",
    "        pre_activations_ax.bar(*histogram_bars(*torch.histogram(per_sample_grad_norm[labels==label], histogram_resolution)), label=f'label {label} layer {layer}', alpha=0.3)\n",
    "        loss_ax.bar(*histogram_bars(*torch.histogram(per_sample_loss[labels==label], histogram_resolution)), label=f'label {label} layer {layer}', alpha=0.3)\n",
    "        scatter_ax.scatter(per_sample_grad_norm[labels==label].cpu().detach().numpy(), per_sample_loss[labels==label].cpu().detach().numpy(), label=f'label {label} layer {layer}')\n",
    "\n",
    "for ax in (pre_activations_ax, loss_ax, scatter_ax): ax.legend()\n",
    "for ax in (pre_activations_ax, loss_ax): ax.set_yscale('log')\n",
    "fig"
   ]
  },
  {
   "cell_type": "code",
   "execution_count": 41,
   "id": "e2816a5f",
   "metadata": {},
   "outputs": [
    {
     "data": {
      "text/plain": [
       "tensor([ 0.5269, -0.8529], device='mps:0', grad_fn=<SelectBackward0>)"
      ]
     },
     "execution_count": 41,
     "metadata": {},
     "output_type": "execute_result"
    }
   ],
   "source": [
    "inputs[per_sample_loss[labels==1].argmin()]"
   ]
  },
  {
   "cell_type": "code",
   "execution_count": 48,
   "id": "44fbf130",
   "metadata": {},
   "outputs": [
    {
     "data": {
      "text/plain": [
       "torch.Size([5000, 2])"
      ]
     },
     "execution_count": 48,
     "metadata": {},
     "output_type": "execute_result"
    }
   ],
   "source": [
    ".shape"
   ]
  },
  {
   "cell_type": "code",
   "execution_count": 46,
   "id": "91eaf702",
   "metadata": {},
   "outputs": [
    {
     "data": {
      "text/plain": [
       "torch.Size([5000, 2])"
      ]
     },
     "execution_count": 46,
     "metadata": {},
     "output_type": "execute_result"
    }
   ],
   "source": [
    "inputs.shape"
   ]
  },
  {
   "cell_type": "code",
   "execution_count": 53,
   "id": "2d84667c",
   "metadata": {},
   "outputs": [
    {
     "data": {
      "text/plain": [
       "torch.Size([5000, 2])"
      ]
     },
     "execution_count": 53,
     "metadata": {},
     "output_type": "execute_result"
    }
   ],
   "source": [
    "torch.concatenate([(labels==1),] *2, dim=1).shape"
   ]
  },
  {
   "cell_type": "code",
   "execution_count": 59,
   "id": "f7736bcb",
   "metadata": {},
   "outputs": [
    {
     "data": {
      "text/plain": [
       "tensor([-0.4718,  0.6242,  0.3505,  ...,  0.6301,  0.5721,  0.4148],\n",
       "       device='mps:0', grad_fn=<IndexBackward0>)"
      ]
     },
     "execution_count": 59,
     "metadata": {},
     "output_type": "execute_result"
    }
   ],
   "source": [
    "inputs[torch.where(labels==1)]"
   ]
  },
  {
   "cell_type": "code",
   "execution_count": 34,
   "id": "b351f28a",
   "metadata": {},
   "outputs": [
    {
     "data": {
      "text/plain": [
       "torch.Size([5000, 2])"
      ]
     },
     "execution_count": 34,
     "metadata": {},
     "output_type": "execute_result"
    }
   ],
   "source": [
    "data.shape"
   ]
  },
  {
   "cell_type": "code",
   "execution_count": 26,
   "id": "3d0f2d0e",
   "metadata": {},
   "outputs": [
    {
     "data": {
      "text/plain": [
       "(torch.Size([5000, 1]), torch.Size([5000, 1]))"
      ]
     },
     "execution_count": 26,
     "metadata": {},
     "output_type": "execute_result"
    }
   ],
   "source": [
    "model.pre_activations[layer].grad.norm(dim=1).unsqueeze(1).shape, per_sample_loss.shape"
   ]
  },
  {
   "cell_type": "code",
   "execution_count": null,
   "id": "53eb3c0f",
   "metadata": {},
   "outputs": [],
   "source": []
  }
 ],
 "metadata": {
  "kernelspec": {
   "display_name": "Python 3 (ipykernel)",
   "language": "python",
   "name": "python3"
  },
  "language_info": {
   "codemirror_mode": {
    "name": "ipython",
    "version": 3
   },
   "file_extension": ".py",
   "mimetype": "text/x-python",
   "name": "python",
   "nbconvert_exporter": "python",
   "pygments_lexer": "ipython3",
   "version": "3.10.11"
  }
 },
 "nbformat": 4,
 "nbformat_minor": 5
}
